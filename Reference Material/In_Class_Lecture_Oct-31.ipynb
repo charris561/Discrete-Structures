{
 "cells": [
  {
   "cell_type": "markdown",
   "metadata": {},
   "source": [
    "8(a)\n",
    "Domain: ${0, 1, dots, 6}$\n",
    "Codomain: same\n",
    "Rule: $(x,y)/in R$ means $(x+y)/%7/in/{0, 4/}$"
   ]
  },
  {
   "cell_type": "code",
   "execution_count": 1,
   "metadata": {},
   "outputs": [],
   "source": [
    "def theRule(x,y):\n",
    "    return((x+y) % 7) in {0,4}"
   ]
  },
  {
   "cell_type": "code",
   "execution_count": 2,
   "metadata": {},
   "outputs": [
    {
     "data": {
      "text/plain": [
       "True"
      ]
     },
     "execution_count": 2,
     "metadata": {},
     "output_type": "execute_result"
    }
   ],
   "source": [
    "theRule(1, 6)"
   ]
  },
  {
   "cell_type": "code",
   "execution_count": 11,
   "metadata": {},
   "outputs": [],
   "source": [
    "def getPairs():\n",
    "    setToReturn = set()\n",
    "    for x in range(7):\n",
    "        for y in range(7):\n",
    "            if theRule(x,y):\n",
    "                setToReturn.add( (x,y) )\n",
    "\n",
    "    return setToReturn"
   ]
  },
  {
   "cell_type": "code",
   "execution_count": 12,
   "metadata": {},
   "outputs": [
    {
     "data": {
      "text/plain": [
       "{(0, 0),\n",
       " (0, 4),\n",
       " (1, 3),\n",
       " (1, 6),\n",
       " (2, 2),\n",
       " (2, 5),\n",
       " (3, 1),\n",
       " (3, 4),\n",
       " (4, 0),\n",
       " (4, 3),\n",
       " (5, 2),\n",
       " (5, 6),\n",
       " (6, 1),\n",
       " (6, 5)}"
      ]
     },
     "execution_count": 12,
     "metadata": {},
     "output_type": "execute_result"
    }
   ],
   "source": [
    "getPairs()"
   ]
  }
 ],
 "metadata": {
  "kernelspec": {
   "display_name": "Python 3.10.7 64-bit",
   "language": "python",
   "name": "python3"
  },
  "language_info": {
   "codemirror_mode": {
    "name": "ipython",
    "version": 3
   },
   "file_extension": ".py",
   "mimetype": "text/x-python",
   "name": "python",
   "nbconvert_exporter": "python",
   "pygments_lexer": "ipython3",
   "version": "3.10.7"
  },
  "orig_nbformat": 4,
  "vscode": {
   "interpreter": {
    "hash": "26de051ba29f2982a8de78e945f0abaf191376122a1563185a90213a26c5da77"
   }
  }
 },
 "nbformat": 4,
 "nbformat_minor": 2
}
