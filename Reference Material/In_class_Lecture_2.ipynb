{
  "nbformat": 4,
  "nbformat_minor": 0,
  "metadata": {
    "colab": {
      "name": "In_class_Lecture_2.ipynb",
      "provenance": [],
      "collapsed_sections": []
    },
    "kernelspec": {
      "name": "python3",
      "display_name": "Python 3"
    },
    "language_info": {
      "name": "python"
    }
  },
  "cells": [
    {
      "cell_type": "markdown",
      "source": [
        "# Boolean variables in Python"
      ],
      "metadata": {
        "id": "0Sa9-gYFFiW-"
      }
    },
    {
      "cell_type": "markdown",
      "source": [
        "In Python, you can do Boolean logic just like in any other language. The most user-friendly way to do this is using the `bool` datatype which has values `True` or `False`. Note the capitalization!"
      ],
      "metadata": {
        "id": "4eaFqQAMFnCu"
      }
    },
    {
      "cell_type": "code",
      "source": [
        "bool_1 = True\n",
        "bool_2 = False"
      ],
      "metadata": {
        "id": "DA2wt5rUF7Y4"
      },
      "execution_count": null,
      "outputs": []
    },
    {
      "cell_type": "markdown",
      "source": [
        "Python implements logical AND $\\wedge$ using the built-in keyword `and`:"
      ],
      "metadata": {
        "id": "S3M3_LYaFnIe"
      }
    },
    {
      "cell_type": "code",
      "source": [
        "print(True and True)"
      ],
      "metadata": {
        "id": "-mVTf86wGUYP"
      },
      "execution_count": null,
      "outputs": []
    },
    {
      "cell_type": "code",
      "source": [
        "print(True and False)"
      ],
      "metadata": {
        "id": "95L9wBx3GXzR"
      },
      "execution_count": null,
      "outputs": []
    },
    {
      "cell_type": "code",
      "source": [
        "print(False and False)"
      ],
      "metadata": {
        "id": "DQpmBbNyGa5A"
      },
      "execution_count": null,
      "outputs": []
    },
    {
      "cell_type": "markdown",
      "source": [
        "Python implements logical OR $\\vee$ using the built-in keyword `or`:"
      ],
      "metadata": {
        "id": "uvf1ESakGhHF"
      }
    },
    {
      "cell_type": "code",
      "source": [
        "print(True or True)"
      ],
      "metadata": {
        "id": "DTs9JzP_GhHG"
      },
      "execution_count": null,
      "outputs": []
    },
    {
      "cell_type": "code",
      "source": [
        "print(True or False)"
      ],
      "metadata": {
        "id": "Gv-wyTTrGhHG"
      },
      "execution_count": null,
      "outputs": []
    },
    {
      "cell_type": "code",
      "source": [
        "print(False or False)"
      ],
      "metadata": {
        "id": "fdJIxJ36GhHH"
      },
      "execution_count": null,
      "outputs": []
    },
    {
      "cell_type": "markdown",
      "source": [
        "Python implements logical NOT $\\neg$ using, you guessed it, the built-in keyword `not`:"
      ],
      "metadata": {
        "id": "pDb0XldeGq6C"
      }
    },
    {
      "cell_type": "code",
      "source": [
        "print(not True)"
      ],
      "metadata": {
        "id": "okRl-JG6G5lQ"
      },
      "execution_count": null,
      "outputs": []
    },
    {
      "cell_type": "markdown",
      "source": [
        "In the videos, you learned about a concept called a \"proposition.\" But this is just the mathy name for a boolean variable! So anywhere you see \"logical proposition,\" feel free to read this as boolean variable.\n",
        "\n",
        "This means you can use Python to explore some of the homework problems.\n",
        "\n",
        "Suppose I give you a logical proposition \n",
        "$$ (p\\land \\neg q) \\lor (\\neg r \\land p)$$\n",
        "and I ask you to figure out what happens if $p$ is True, $q$ is False, and $r$ is False?\n",
        "\n",
        "You can simply code it up!"
      ],
      "metadata": {
        "id": "cE-rjgPRHlTF"
      }
    },
    {
      "cell_type": "code",
      "source": [
        "p = True\n",
        "q = False\n",
        "r = False\n",
        "(p and not q) or (not r and p)"
      ],
      "metadata": {
        "id": "cl0OcHOaFzSu"
      },
      "execution_count": null,
      "outputs": []
    },
    {
      "cell_type": "markdown",
      "source": [
        "You can even create a rudimentary truth table:"
      ],
      "metadata": {
        "id": "lmV99-DII2q3"
      }
    },
    {
      "cell_type": "code",
      "source": [
        "for p in (True,False) :\n",
        "  for q in (True,False) :\n",
        "    for r in (True,False) :\n",
        "      print(str((p,q,r)) + ' ' + str((p and not q) or (not r and p)))"
      ],
      "metadata": {
        "id": "2CplFXp_IWQG"
      },
      "execution_count": null,
      "outputs": []
    },
    {
      "cell_type": "markdown",
      "source": [
        "Finally, what about those \"tautology\" and \"contradiction\" concepts I mentioned in the video lectures? These are just the values `True` and `False`!"
      ],
      "metadata": {
        "id": "3gzu-5YsJjEq"
      }
    },
    {
      "cell_type": "markdown",
      "source": [
        "# Today's Assignment:"
      ],
      "metadata": {
        "id": "s7hBpNAsI8h4"
      }
    },
    {
      "cell_type": "markdown",
      "source": [
        "What is the truth value of the following logical proposition when all its propositional variables are `True`?\n",
        "$$\n",
        "((\\neg p_1 \\land r_1) \\lor q_1) \\lor (p_2 \\land (\\neg r_2 \\lor q_2) \\land r_2)\n",
        "\\lor (q_3 \\land p_3 \\land \\neg r_3)\n",
        "$$"
      ],
      "metadata": {
        "id": "ZdurE5zaJMk6"
      }
    },
    {
      "cell_type": "code",
      "source": [],
      "metadata": {
        "id": "KaytIFguKcI7"
      },
      "execution_count": null,
      "outputs": []
    }
  ]
}