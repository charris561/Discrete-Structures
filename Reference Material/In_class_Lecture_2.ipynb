{
  "cells": [
    {
      "cell_type": "markdown",
      "metadata": {
        "id": "0Sa9-gYFFiW-"
      },
      "source": [
        "# Boolean variables in Python"
      ]
    },
    {
      "cell_type": "markdown",
      "metadata": {
        "id": "4eaFqQAMFnCu"
      },
      "source": [
        "In Python, you can do Boolean logic just like in any other language. The most user-friendly way to do this is using the `bool` datatype which has values `True` or `False`. Note the capitalization!"
      ]
    },
    {
      "cell_type": "code",
      "execution_count": null,
      "metadata": {
        "id": "DA2wt5rUF7Y4"
      },
      "outputs": [],
      "source": [
        "bool_1 = True\n",
        "bool_2 = False"
      ]
    },
    {
      "cell_type": "markdown",
      "metadata": {
        "id": "S3M3_LYaFnIe"
      },
      "source": [
        "Python implements logical AND $\\wedge$ using the built-in keyword `and`:"
      ]
    },
    {
      "cell_type": "code",
      "execution_count": null,
      "metadata": {
        "id": "-mVTf86wGUYP"
      },
      "outputs": [],
      "source": [
        "print(True and True)"
      ]
    },
    {
      "cell_type": "code",
      "execution_count": null,
      "metadata": {
        "id": "95L9wBx3GXzR"
      },
      "outputs": [],
      "source": [
        "print(True and False)"
      ]
    },
    {
      "cell_type": "code",
      "execution_count": null,
      "metadata": {
        "id": "DQpmBbNyGa5A"
      },
      "outputs": [],
      "source": [
        "print(False and False)"
      ]
    },
    {
      "cell_type": "markdown",
      "metadata": {
        "id": "uvf1ESakGhHF"
      },
      "source": [
        "Python implements logical OR $\\vee$ using the built-in keyword `or`:"
      ]
    },
    {
      "cell_type": "code",
      "execution_count": null,
      "metadata": {
        "id": "DTs9JzP_GhHG"
      },
      "outputs": [],
      "source": [
        "print(True or True)"
      ]
    },
    {
      "cell_type": "code",
      "execution_count": null,
      "metadata": {
        "id": "Gv-wyTTrGhHG"
      },
      "outputs": [],
      "source": [
        "print(True or False)"
      ]
    },
    {
      "cell_type": "code",
      "execution_count": null,
      "metadata": {
        "id": "fdJIxJ36GhHH"
      },
      "outputs": [],
      "source": [
        "print(False or False)"
      ]
    },
    {
      "cell_type": "markdown",
      "metadata": {
        "id": "pDb0XldeGq6C"
      },
      "source": [
        "Python implements logical NOT $\\neg$ using, you guessed it, the built-in keyword `not`:"
      ]
    },
    {
      "cell_type": "code",
      "execution_count": null,
      "metadata": {
        "id": "okRl-JG6G5lQ"
      },
      "outputs": [],
      "source": [
        "print(not True)"
      ]
    },
    {
      "cell_type": "markdown",
      "metadata": {
        "id": "cE-rjgPRHlTF"
      },
      "source": [
        "In the videos, you learned about a concept called a \"proposition.\" But this is just the mathy name for a boolean variable! So anywhere you see \"logical proposition,\" feel free to read this as boolean variable.\n",
        "\n",
        "This means you can use Python to explore some of the homework problems.\n",
        "\n",
        "Suppose I give you a logical proposition \n",
        "$$ (p\\land \\neg q) \\lor (\\neg r \\land p)$$\n",
        "and I ask you to figure out what happens if $p$ is True, $q$ is False, and $r$ is False?\n",
        "\n",
        "You can simply code it up!"
      ]
    },
    {
      "cell_type": "code",
      "execution_count": 1,
      "metadata": {
        "id": "cl0OcHOaFzSu"
      },
      "outputs": [
        {
          "data": {
            "text/plain": [
              "True"
            ]
          },
          "execution_count": 1,
          "metadata": {},
          "output_type": "execute_result"
        }
      ],
      "source": [
        "p = True\n",
        "q = False\n",
        "r = False\n",
        "(p and not q) or (not r and p)"
      ]
    },
    {
      "cell_type": "markdown",
      "metadata": {
        "id": "lmV99-DII2q3"
      },
      "source": [
        "You can even create a rudimentary truth table:"
      ]
    },
    {
      "cell_type": "code",
      "execution_count": 2,
      "metadata": {
        "id": "2CplFXp_IWQG"
      },
      "outputs": [
        {
          "name": "stdout",
          "output_type": "stream",
          "text": [
            "(True, True, True) False\n",
            "(True, True, False) True\n",
            "(True, False, True) True\n",
            "(True, False, False) True\n",
            "(False, True, True) False\n",
            "(False, True, False) False\n",
            "(False, False, True) False\n",
            "(False, False, False) False\n"
          ]
        }
      ],
      "source": [
        "for p in (True,False) :\n",
        "  for q in (True,False) :\n",
        "    for r in (True,False) :\n",
        "      print(str((p,q,r)) + ' ' + str((p and not q) or (not r and p)))"
      ]
    },
    {
      "cell_type": "markdown",
      "metadata": {
        "id": "3gzu-5YsJjEq"
      },
      "source": [
        "Finally, what about those \"tautology\" and \"contradiction\" concepts I mentioned in the video lectures? These are just the values `True` and `False`!"
      ]
    },
    {
      "cell_type": "markdown",
      "metadata": {
        "id": "s7hBpNAsI8h4"
      },
      "source": [
        "# Today's Assignment:"
      ]
    },
    {
      "cell_type": "markdown",
      "metadata": {
        "id": "ZdurE5zaJMk6"
      },
      "source": [
        "What is the truth value of the following logical proposition when all its propositional variables are `True`?\n",
        "$$\n",
        "((\\neg p_1 \\land r_1) \\lor q_1) \\lor (p_2 \\land (\\neg r_2 \\lor q_2) \\land r_2)\n",
        "\\lor (q_3 \\land p_3 \\land \\neg r_3)\n",
        "$$"
      ]
    },
    {
      "cell_type": "code",
      "execution_count": 1,
      "metadata": {
        "id": "KaytIFguKcI7"
      },
      "outputs": [
        {
          "name": "stdout",
          "output_type": "stream",
          "text": [
            "True\n",
            "False\n"
          ]
        }
      ],
      "source": [
        "p_1 = True\n",
        "p_2 = True\n",
        "p_3 = True\n",
        "q_1 = True\n",
        "q_2 = True\n",
        "q_3 = True\n",
        "r_1 = True\n",
        "r_2 = True\n",
        "r_3 = True\n",
        "print(((not p_1 and r_1) or q_1) or (p_2 and (not r_2 or q_2) and r_2) or (q_3 and p_3 and not r_3))\n",
        "print (not p_1 and p_2)"
      ]
    }
  ],
  "metadata": {
    "colab": {
      "collapsed_sections": [],
      "name": "In_class_Lecture_2.ipynb",
      "provenance": []
    },
    "kernelspec": {
      "display_name": "Python 3.10.6 64-bit",
      "language": "python",
      "name": "python3"
    },
    "language_info": {
      "codemirror_mode": {
        "name": "ipython",
        "version": 3
      },
      "file_extension": ".py",
      "mimetype": "text/x-python",
      "name": "python",
      "nbconvert_exporter": "python",
      "pygments_lexer": "ipython3",
      "version": "3.10.6"
    },
    "vscode": {
      "interpreter": {
        "hash": "26de051ba29f2982a8de78e945f0abaf191376122a1563185a90213a26c5da77"
      }
    }
  },
  "nbformat": 4,
  "nbformat_minor": 0
}
