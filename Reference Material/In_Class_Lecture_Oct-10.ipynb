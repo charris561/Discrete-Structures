{
 "cells": [
  {
   "cell_type": "markdown",
   "metadata": {},
   "source": [
    "<h1>Problem 36 from Section 2.5</h1>"
   ]
  },
  {
   "cell_type": "markdown",
   "metadata": {},
   "source": [
    "For every integer $n\\geq1$, show that some number {$\\pi, 2\\pi, ..., n\\pi$} is within $1/n$ of an integer."
   ]
  },
  {
   "cell_type": "code",
   "execution_count": 170,
   "metadata": {},
   "outputs": [],
   "source": [
    "from math import pi\n",
    "\n",
    "def getListOfPis(n):\n",
    "    toReturn = []\n",
    "    for i in range(1, n+1):\n",
    "        toReturn.append(i * pi)\n",
    "    return toReturn"
   ]
  },
  {
   "cell_type": "code",
   "execution_count": 171,
   "metadata": {},
   "outputs": [],
   "source": [
    "assert(getListOfPis(5) == [3.141592653589793,\n",
    " 6.283185307179586,\n",
    " 9.42477796076938,\n",
    " 12.566370614359172,\n",
    " 15.707963267948966])"
   ]
  },
  {
   "cell_type": "markdown",
   "metadata": {},
   "source": [
    "New way of doing this: \"list conprehension\"\n",
    "\n",
    "Syntax: [stuffToGoInList for something in list]"
   ]
  },
  {
   "cell_type": "code",
   "execution_count": 172,
   "metadata": {},
   "outputs": [
    {
     "data": {
      "text/plain": [
       "[0, 1, 2, 3, 4]"
      ]
     },
     "execution_count": 172,
     "metadata": {},
     "output_type": "execute_result"
    }
   ],
   "source": [
    "[i for i in range(5)]"
   ]
  },
  {
   "cell_type": "code",
   "execution_count": 173,
   "metadata": {},
   "outputs": [],
   "source": [
    "sameAsAbove = [pi*i for i in range(1, 6)]"
   ]
  },
  {
   "cell_type": "markdown",
   "metadata": {},
   "source": [
    "Question: when n=5 is one of the pi's within 1/5 of an integer?"
   ]
  },
  {
   "cell_type": "code",
   "execution_count": 174,
   "metadata": {},
   "outputs": [
    {
     "data": {
      "text/plain": [
       "0.2"
      ]
     },
     "execution_count": 174,
     "metadata": {},
     "output_type": "execute_result"
    }
   ],
   "source": [
    "1/5"
   ]
  },
  {
   "cell_type": "code",
   "execution_count": 175,
   "metadata": {},
   "outputs": [
    {
     "data": {
      "text/plain": [
       "[3.141592653589793,\n",
       " 6.283185307179586,\n",
       " 9.42477796076938,\n",
       " 12.566370614359172,\n",
       " 15.707963267948966]"
      ]
     },
     "execution_count": 175,
     "metadata": {},
     "output_type": "execute_result"
    }
   ],
   "source": [
    "numOfPis = 5\n",
    "getListOfPis(numOfPis)"
   ]
  },
  {
   "cell_type": "code",
   "execution_count": 176,
   "metadata": {},
   "outputs": [
    {
     "name": "stdout",
     "output_type": "stream",
     "text": [
      "Needs to be this accurate: 0.2\n"
     ]
    }
   ],
   "source": [
    "print(f\"Needs to be this accurate: {1/numOfPis}\")"
   ]
  },
  {
   "cell_type": "code",
   "execution_count": 177,
   "metadata": {},
   "outputs": [],
   "source": [
    "#check to see if fractional part meets accuracy\n",
    "def listOfFractionalParts(n):\n",
    "    return[(pi * i) % 1 for i in range(1, n+1)]"
   ]
  },
  {
   "cell_type": "code",
   "execution_count": 178,
   "metadata": {},
   "outputs": [
    {
     "data": {
      "text/plain": [
       "[0.14159265358979312,\n",
       " 0.28318530717958623,\n",
       " 0.42477796076937935,\n",
       " 0.5663706143591725,\n",
       " 0.7079632679489656]"
      ]
     },
     "execution_count": 178,
     "metadata": {},
     "output_type": "execute_result"
    }
   ],
   "source": [
    "listOfFractionalParts(numOfPis)"
   ]
  },
  {
   "cell_type": "code",
   "execution_count": 179,
   "metadata": {},
   "outputs": [],
   "source": [
    "def checkFractionalPart(fractionalPart, n):\n",
    "    #return true if the fractionalPart is within 1/n of 0 or 1\n",
    "    if (fractionalPart < 1/n) or (fractionalPart > 1-1/n):\n",
    "        return True\n",
    "    else: return False"
   ]
  },
  {
   "cell_type": "code",
   "execution_count": 180,
   "metadata": {},
   "outputs": [],
   "source": [
    "assert(checkFractionalPart( .2, 2) == True)\n",
    "assert(checkFractionalPart(.15, 5) == True)\n",
    "assert(checkFractionalPart(.25, 5) == False)\n",
    "assert(checkFractionalPart(.9, 5) == True)"
   ]
  },
  {
   "cell_type": "code",
   "execution_count": 181,
   "metadata": {},
   "outputs": [],
   "source": [
    "#check to see if fractional part meets accuracy\n",
    "def listOfCheckedFractionalParts(n):\n",
    "    return[checkFractionalPart((pi * i) % 1, n) for i in range(1, n+1)]"
   ]
  },
  {
   "cell_type": "code",
   "execution_count": 182,
   "metadata": {},
   "outputs": [
    {
     "data": {
      "text/plain": [
       "[True, False, False, False, False]"
      ]
     },
     "execution_count": 182,
     "metadata": {},
     "output_type": "execute_result"
    }
   ],
   "source": [
    "listOfCheckedFractionalParts(numOfPis)"
   ]
  },
  {
   "cell_type": "markdown",
   "metadata": {},
   "source": [
    "Lets make this a bit more readable"
   ]
  },
  {
   "cell_type": "code",
   "execution_count": 183,
   "metadata": {},
   "outputs": [],
   "source": [
    "def verboseListofCheckedFractionalParts(n):\n",
    "    return [(i, \n",
    "    i*pi, \n",
    "    checkFractionalPart((pi * i) % 1, n)) for i in range(1, n+1)]"
   ]
  },
  {
   "cell_type": "code",
   "execution_count": 184,
   "metadata": {},
   "outputs": [
    {
     "data": {
      "text/plain": [
       "[(1, 3.141592653589793, True),\n",
       " (2, 6.283185307179586, False),\n",
       " (3, 9.42477796076938, False),\n",
       " (4, 12.566370614359172, False),\n",
       " (5, 15.707963267948966, False)]"
      ]
     },
     "execution_count": 184,
     "metadata": {},
     "output_type": "execute_result"
    }
   ],
   "source": [
    "verboseListofCheckedFractionalParts(numOfPis)"
   ]
  },
  {
   "cell_type": "code",
   "execution_count": 185,
   "metadata": {},
   "outputs": [],
   "source": [
    "def listJustTrueValues(list):\n",
    "    for item in list: \n",
    "        if (item == True):\n",
    "            print (item)"
   ]
  },
  {
   "cell_type": "markdown",
   "metadata": {},
   "source": [
    "Book idea: \n",
    "Define $n$ boxes into which we can place real numbers $x$ that are between $0$ and $1$. \n",
    "\n",
    "Place each multiple of $\\pi$ into a box on the basis of its fractional part."
   ]
  },
  {
   "cell_type": "code",
   "execution_count": 186,
   "metadata": {},
   "outputs": [],
   "source": [
    "def whichBox(multipleOfPi, n):\n",
    "    #should return the index of the box where this muiltiple of pi belongs\n",
    "    fractoinalPart = multipleOfPi % 1\n",
    "    for i in range(n):\n",
    "        if fractoinalPart < (i+1)/n:\n",
    "            return i"
   ]
  },
  {
   "cell_type": "code",
   "execution_count": 187,
   "metadata": {},
   "outputs": [],
   "source": [
    "assert(whichBox(2.15, 5) == 0)\n",
    "assert(whichBox(2.99, 5) == 4)\n",
    "assert(whichBox(2.55, 5) == 2)"
   ]
  },
  {
   "cell_type": "code",
   "execution_count": 188,
   "metadata": {},
   "outputs": [],
   "source": [
    "def putIntoBoxes(n):\n",
    "    #make a list of empty lists:\n",
    "    #boxes = [[]] * n --> list does not work to create n empty lists. Keep in mind.\n",
    "    boxes = [[] for i in range(n)] #instead do this\n",
    "    for multiplier in range(1, n+1):\n",
    "        multipleOfPi = multiplier * pi\n",
    "        boxes[whichBox(multipleOfPi, n)].append((multiplier, multipleOfPi))\n",
    "    return boxes"
   ]
  },
  {
   "cell_type": "code",
   "execution_count": 189,
   "metadata": {},
   "outputs": [
    {
     "name": "stdout",
     "output_type": "stream",
     "text": [
      "[[(1, 3.141592653589793)], [(2, 6.283185307179586)], [(3, 9.42477796076938), (4, 12.566370614359172)], [(5, 15.707963267948966)], []]\n"
     ]
    }
   ],
   "source": [
    "result = putIntoBoxes(numOfPis)\n",
    "print(result)"
   ]
  },
  {
   "cell_type": "code",
   "execution_count": 190,
   "metadata": {},
   "outputs": [
    {
     "name": "stdout",
     "output_type": "stream",
     "text": [
      "[[(1, 3.141592653589793), 1], [(2, 6.283185307179586)], [(3, 9.42477796076938), (4, 12.566370614359172)], [(5, 15.707963267948966)], []]\n"
     ]
    }
   ],
   "source": [
    "result[0].append(1)\n",
    "print(result)"
   ]
  },
  {
   "cell_type": "code",
   "execution_count": null,
   "metadata": {},
   "outputs": [],
   "source": [
    "#check to see what multiples of pi are within 1/n of an integer\n",
    "verboseListofCheckedFractionalParts(numOfPis)"
   ]
  }
 ],
 "metadata": {
  "kernelspec": {
   "display_name": "Python 3.10.7 64-bit",
   "language": "python",
   "name": "python3"
  },
  "language_info": {
   "codemirror_mode": {
    "name": "ipython",
    "version": 3
   },
   "file_extension": ".py",
   "mimetype": "text/x-python",
   "name": "python",
   "nbconvert_exporter": "python",
   "pygments_lexer": "ipython3",
   "version": "3.10.7"
  },
  "orig_nbformat": 4,
  "vscode": {
   "interpreter": {
    "hash": "26de051ba29f2982a8de78e945f0abaf191376122a1563185a90213a26c5da77"
   }
  }
 },
 "nbformat": 4,
 "nbformat_minor": 2
}
