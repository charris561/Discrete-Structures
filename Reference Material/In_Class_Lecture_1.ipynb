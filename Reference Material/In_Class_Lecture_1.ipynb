{
  "cells": [
    {
      "cell_type": "markdown",
      "metadata": {
        "id": "Y4n7Y78cSeYU"
      },
      "source": [
        "## Jupyter Notebooks\n",
        "\n",
        "A Jupyter notebook is a handy way to combine `code` and **text** into a single unified document. Code and Text are organized into **cells**; each cell is either a \"code\" cell or a \"text\" cell. \n",
        "\n",
        "When you double-click on a cell, it goes into edit mode. When you hit `Enter`, you get a new line. To leave edit mode and \"execute\" the cell (either render the text formatting in a Markdown cell or actually run the code in a code cell), type `Shift-Enter`."
      ]
    },
    {
      "cell_type": "markdown",
      "metadata": {
        "id": "1pc-JDRZTWnE"
      },
      "source": [
        "Text cells can be formatted using Markdown. Here are some examples:"
      ]
    },
    {
      "cell_type": "markdown",
      "metadata": {
        "id": "NYSIHqDXOfCz"
      },
      "source": [
        "## Variables\n"
      ]
    },
    {
      "cell_type": "markdown",
      "metadata": {
        "id": "3trsmYPkTcek"
      },
      "source": [
        "\n",
        "If you've never used Python before, it may take a little bit to get used to. Fortunately it's a very easy language to learn and to use.\n",
        "\n",
        "First, we need to talk about variables. Variables are very weakly typed in Python. This makes declaring variables very easy:"
      ]
    },
    {
      "cell_type": "code",
      "execution_count": null,
      "metadata": {
        "id": "ug-Cg8y9SdZk"
      },
      "outputs": [],
      "source": [
        "my_variable = 10"
      ]
    },
    {
      "cell_type": "markdown",
      "metadata": {
        "id": "L7GJlTiJVnvG"
      },
      "source": [
        "Now, the variable named `my_variable` has been assigned the value 10. I didn't have to tell Python to expect an integer, or even a number. It just figured it out on the fly. I can do this again:"
      ]
    },
    {
      "cell_type": "code",
      "execution_count": null,
      "metadata": {
        "id": "y50WAOnHVy7P"
      },
      "outputs": [],
      "source": [
        "my_2nd_variable = 20"
      ]
    },
    {
      "cell_type": "markdown",
      "metadata": {
        "id": "TgAez3IYV17w"
      },
      "source": [
        "Now that I have 2 variables, I can do things with them. I can print them:"
      ]
    },
    {
      "cell_type": "code",
      "execution_count": null,
      "metadata": {
        "id": "q-fANUtXV5V_"
      },
      "outputs": [],
      "source": [
        "print(my_variable)"
      ]
    },
    {
      "cell_type": "markdown",
      "metadata": {
        "id": "T1rVds6-V7xh"
      },
      "source": [
        "I can add them together and store the result in a new variable:"
      ]
    },
    {
      "cell_type": "code",
      "execution_count": null,
      "metadata": {
        "id": "ScxBIzrWV_n5"
      },
      "outputs": [],
      "source": [
        "my_3rd_variable = my_variable + my_2nd_variable\n",
        "print(my_3rd_variable)"
      ]
    },
    {
      "cell_type": "markdown",
      "metadata": {
        "id": "j1wTrrVwWdIX"
      },
      "source": [
        "I can increment them:"
      ]
    },
    {
      "cell_type": "code",
      "execution_count": null,
      "metadata": {
        "id": "x1_6hV_9We8-"
      },
      "outputs": [],
      "source": [
        "my_2nd_variable += 1\n",
        "print(my_2nd_variable)"
      ]
    },
    {
      "cell_type": "markdown",
      "metadata": {
        "id": "AH84p8GyWooe"
      },
      "source": [
        "This brings us to a **quirk** of Jupyter notebooks: every cell is interacting with a **single** Python kernel. That means that the order I execute cells matters very much, as I will demonstrate."
      ]
    },
    {
      "cell_type": "markdown",
      "metadata": {
        "id": "9vWYPLkGSIzJ"
      },
      "source": [
        "## Lists\n",
        "\n"
      ]
    },
    {
      "cell_type": "markdown",
      "metadata": {
        "id": "T5xmdsU1Te1t"
      },
      "source": [
        "Now let's talk about the `list` object. A `list` is like an array in many other languages, except that it does not have a predefined length and is not typed. For our purposes, this makes it ideal for storing sequences -- since we can just add more terms of a sequence at will. A `list` is defined using square brackets:"
      ]
    },
    {
      "cell_type": "code",
      "execution_count": null,
      "metadata": {
        "id": "pZgFML0aOfC1"
      },
      "outputs": [],
      "source": [
        "test_list = [5,4,3,2]\n",
        "print(test_list)"
      ]
    },
    {
      "cell_type": "markdown",
      "metadata": {
        "id": "wr0o7dPGOfC2"
      },
      "source": [
        "Lists are also indexed using square brackets, like so (we will print the 1st and 3rd elements):"
      ]
    },
    {
      "cell_type": "code",
      "execution_count": null,
      "metadata": {
        "id": "uV6bHMfROfC2"
      },
      "outputs": [],
      "source": [
        "print(test_list[0])\n",
        "print(test_list[2])"
      ]
    },
    {
      "cell_type": "markdown",
      "metadata": {
        "id": "RuUCkYGMOfC3"
      },
      "source": [
        "If you want the *last* item in a list, Python has a handy shortcut for that:"
      ]
    },
    {
      "cell_type": "code",
      "execution_count": null,
      "metadata": {
        "id": "AVsOfEBiOfC3"
      },
      "outputs": [],
      "source": [
        "print(test_list[-1])"
      ]
    },
    {
      "cell_type": "markdown",
      "metadata": {
        "id": "USZkAzm5OfC4"
      },
      "source": [
        "If you want to modify an item in a list, do it this way:"
      ]
    },
    {
      "cell_type": "code",
      "execution_count": null,
      "metadata": {
        "id": "wsJ9hkpLOfC4"
      },
      "outputs": [],
      "source": [
        "test_list[2] = 21\n",
        "print(test_list)"
      ]
    },
    {
      "cell_type": "markdown",
      "metadata": {
        "id": "78dhHn9VOfC5"
      },
      "source": [
        "If you want to add an item to a list, use the `.append()` method:"
      ]
    },
    {
      "cell_type": "code",
      "execution_count": null,
      "metadata": {
        "id": "BkU_VAfIOfC5"
      },
      "outputs": [],
      "source": [
        "test_list.append(10)\n",
        "print(test_list)"
      ]
    },
    {
      "cell_type": "markdown",
      "metadata": {
        "id": "TPgViRP-OfC6"
      },
      "source": [
        "To find out how many items are in a list, use the `len()` function:"
      ]
    },
    {
      "cell_type": "code",
      "execution_count": null,
      "metadata": {
        "id": "FJxjgxn7OfC6"
      },
      "outputs": [],
      "source": [
        "print(len(test_list))"
      ]
    },
    {
      "cell_type": "markdown",
      "metadata": {
        "id": "p4c30P_7OfC7"
      },
      "source": [
        "Finally, keep in mind that Python lets you do all kinds of things that other languages find vile and disgusting. A solid example of this is that lists are not typed in any way. You can add any object of any type to a list:"
      ]
    },
    {
      "cell_type": "code",
      "execution_count": null,
      "metadata": {
        "id": "UDb6pSY4OfC7"
      },
      "outputs": [],
      "source": [
        "test_list.append('this is a string')\n",
        "print(test_list)"
      ]
    },
    {
      "cell_type": "markdown",
      "metadata": {
        "id": "QoG0F5OAOfC7"
      },
      "source": [
        "It is even possible to add lists to lists:"
      ]
    },
    {
      "cell_type": "code",
      "execution_count": null,
      "metadata": {
        "id": "SYH5O-BNOfC8"
      },
      "outputs": [],
      "source": [
        "test_list[0] = [1,2,3]\n",
        "print(test_list)"
      ]
    },
    {
      "cell_type": "markdown",
      "metadata": {
        "id": "mlh9N-7WOfC-"
      },
      "source": [
        "## For loops\n",
        "\n"
      ]
    },
    {
      "cell_type": "markdown",
      "metadata": {
        "id": "-VG9tCwrTh-N"
      },
      "source": [
        "When I first learned Python, I found for loops to be pretty strange. Like so many things in Python, they're quite powerful once you get comfortable with them, but the standard syntax is quite unlike other languages. This example will get you started. Here is a basic way to set up a for loop in Python that will work for many purposes. The following is equivalent to Java's `for(int i=0; i<10; i++)`:"
      ]
    },
    {
      "cell_type": "code",
      "execution_count": null,
      "metadata": {
        "id": "2ga2spJDOfC_"
      },
      "outputs": [],
      "source": [
        "for i in range(10) :\n",
        "    print(i)"
      ]
    },
    {
      "cell_type": "markdown",
      "metadata": {
        "id": "NH4dA96VOfC_"
      },
      "source": [
        "Under the hood, Python is using that special `range` object to dynamically create a sequence of indices. On each iteration of the loop, the next value from the `range` is obtained and stored in `i`. Another way to do exactly the same thing is like this:"
      ]
    },
    {
      "cell_type": "code",
      "execution_count": null,
      "metadata": {
        "id": "Sp_B4sZCOfC_"
      },
      "outputs": [],
      "source": [
        "for i in range(0,10) :\n",
        "    print(i)"
      ]
    },
    {
      "cell_type": "markdown",
      "metadata": {
        "id": "1dl0hXIKOfC_"
      },
      "source": [
        "Yet another (cumbersome, bulky, and probably bad) way to do the same thing is to hard-code the indices:"
      ]
    },
    {
      "cell_type": "code",
      "execution_count": null,
      "metadata": {
        "id": "97HNjD6xOfDA"
      },
      "outputs": [],
      "source": [
        "for i in [0,1,2,3,4,5,6,7,8,9] :\n",
        "    print(i)"
      ]
    },
    {
      "cell_type": "markdown",
      "metadata": {
        "id": "L1GEPfBKOfDA"
      },
      "source": [
        "If you want to start and end at a different number, you can do it like this:"
      ]
    },
    {
      "cell_type": "code",
      "execution_count": null,
      "metadata": {
        "id": "m6981irMOfDA"
      },
      "outputs": [],
      "source": [
        "for i in range(5,12) :\n",
        "    print(i)"
      ]
    },
    {
      "cell_type": "markdown",
      "metadata": {
        "id": "sc4i2LAzRf8v"
      },
      "source": [
        "And you can nest loops within each other as well:"
      ]
    },
    {
      "cell_type": "code",
      "execution_count": null,
      "metadata": {
        "id": "OQc6LaqpRZqS"
      },
      "outputs": [],
      "source": [
        "for i in range(5,12) :\n",
        "    for j in range(2) :\n",
        "        print('inner')\n",
        "    print(i)"
      ]
    },
    {
      "cell_type": "markdown",
      "metadata": {
        "id": "1IKJSjE-Tk1l"
      },
      "source": [
        "## Assignment"
      ]
    },
    {
      "cell_type": "markdown",
      "metadata": {
        "id": "sIz7V1lTTnYe"
      },
      "source": [
        "To receive credit for today's in-class quiz, write Python code in the following cell which **adds up the first 100 nonnegative integers.** (starting with $0$; so this should be $0+1+2+3+...$ until you have 100 terms being added together.) The correct answer to the quiz is the sum of the first 100 nonnegative integers."
      ]
    },
    {
      "cell_type": "code",
      "execution_count": 21,
      "metadata": {
        "id": "iztNtuIJUJkK"
      },
      "outputs": [
        {
          "name": "stdout",
          "output_type": "stream",
          "text": [
            "4950\n"
          ]
        }
      ],
      "source": [
        "startNum = 0\n",
        "endNum = 100\n",
        "sum = 0\n",
        "\n",
        "for startNum in range(endNum):\n",
        "  sum += startNum\n",
        "\n",
        "print(sum)"
      ]
    }
  ],
  "metadata": {
    "colab": {
      "name": "In-Class Lecture 1.ipynb",
      "provenance": []
    },
    "kernelspec": {
      "display_name": "Python 3.10.6 64-bit",
      "language": "python",
      "name": "python3"
    },
    "language_info": {
      "codemirror_mode": {
        "name": "ipython",
        "version": 3
      },
      "file_extension": ".py",
      "mimetype": "text/x-python",
      "name": "python",
      "nbconvert_exporter": "python",
      "pygments_lexer": "ipython3",
      "version": "3.10.6"
    },
    "vscode": {
      "interpreter": {
        "hash": "26de051ba29f2982a8de78e945f0abaf191376122a1563185a90213a26c5da77"
      }
    }
  },
  "nbformat": 4,
  "nbformat_minor": 0
}
