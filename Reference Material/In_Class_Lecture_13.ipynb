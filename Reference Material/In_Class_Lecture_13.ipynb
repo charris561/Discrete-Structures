{
  "cells": [
    {
      "cell_type": "markdown",
      "metadata": {
        "id": "RMvC0lQGZbAq"
      },
      "source": [
        "[Python documentation for sets](https://docs.python.org/3.8/library/stdtypes.html#set-types-set-frozenset)\n",
        "\n",
        "Define using curly braces `{ }`, or for an empty set, use `set()`"
      ]
    },
    {
      "cell_type": "code",
      "execution_count": null,
      "metadata": {
        "id": "DTISG0rvZbAs"
      },
      "outputs": [],
      "source": [
        "this_is_a_set = {4,5}"
      ]
    },
    {
      "cell_type": "code",
      "execution_count": null,
      "metadata": {
        "id": "WsbJjL8rZbAt"
      },
      "outputs": [],
      "source": [
        "this_is_a_set"
      ]
    },
    {
      "cell_type": "code",
      "execution_count": null,
      "metadata": {
        "id": "yyMcF3_rZbAu"
      },
      "outputs": [],
      "source": [
        "this_is_also_a_set = {5,4}"
      ]
    },
    {
      "cell_type": "code",
      "execution_count": null,
      "metadata": {
        "id": "duHFiq0WZbAu"
      },
      "outputs": [],
      "source": [
        "this_is_also_a_set"
      ]
    },
    {
      "cell_type": "code",
      "execution_count": null,
      "metadata": {
        "id": "ePgXFYoaZbAu"
      },
      "outputs": [],
      "source": [
        "new_set = {4,5,5}"
      ]
    },
    {
      "cell_type": "code",
      "execution_count": null,
      "metadata": {
        "id": "fTR-Fp7DZbAv"
      },
      "outputs": [],
      "source": [
        "new_set"
      ]
    },
    {
      "cell_type": "code",
      "execution_count": null,
      "metadata": {
        "id": "y9PsTOBoZbAv"
      },
      "outputs": [],
      "source": [
        "A = {1,2,3}\n",
        "A2 = {3,2,1,1}\n",
        "B = {2,3,4}\n",
        "print('A: '+str(A))\n",
        "print('A2: '+str(A2))\n",
        "print('B: '+str(B))"
      ]
    },
    {
      "cell_type": "markdown",
      "metadata": {
        "id": "omnoMrC1ZbAw"
      },
      "source": [
        "Compute $A\\cup B$"
      ]
    },
    {
      "cell_type": "code",
      "execution_count": null,
      "metadata": {
        "id": "NCezzEETZbAw"
      },
      "outputs": [],
      "source": [
        "A.union(B)"
      ]
    },
    {
      "cell_type": "code",
      "execution_count": null,
      "metadata": {
        "id": "zVuxJ8nxZbAx"
      },
      "outputs": [],
      "source": [
        "A | B"
      ]
    },
    {
      "cell_type": "markdown",
      "metadata": {
        "id": "5hFtccNHZbAy"
      },
      "source": [
        "Compute set intersection $A\\cap B$"
      ]
    },
    {
      "cell_type": "code",
      "execution_count": null,
      "metadata": {
        "id": "Ck3jFdLCZbAy"
      },
      "outputs": [],
      "source": [
        "A.intersection(B)"
      ]
    },
    {
      "cell_type": "code",
      "execution_count": null,
      "metadata": {
        "id": "OUbpb2zWZbAy"
      },
      "outputs": [],
      "source": [
        "A & B"
      ]
    },
    {
      "cell_type": "markdown",
      "metadata": {
        "id": "Fja4m6S5ZbAz"
      },
      "source": [
        "Compute set difference $A - B$"
      ]
    },
    {
      "cell_type": "code",
      "execution_count": null,
      "metadata": {
        "id": "WzWUJXFcZbAz"
      },
      "outputs": [],
      "source": [
        "A.difference(B)"
      ]
    },
    {
      "cell_type": "code",
      "execution_count": null,
      "metadata": {
        "id": "WPZ5FvK6ZbAz"
      },
      "outputs": [],
      "source": [
        "A - B"
      ]
    },
    {
      "cell_type": "markdown",
      "metadata": {
        "id": "FeFrDEEsZbA0"
      },
      "source": [
        "$x\\in A$"
      ]
    },
    {
      "cell_type": "code",
      "execution_count": null,
      "metadata": {
        "id": "950zJ4QIZbA0"
      },
      "outputs": [],
      "source": [
        "(4 in A)"
      ]
    },
    {
      "cell_type": "markdown",
      "metadata": {
        "id": "SL1WojFSZbA0"
      },
      "source": [
        "$4 \\in A\\cup B$"
      ]
    },
    {
      "cell_type": "code",
      "execution_count": null,
      "metadata": {
        "id": "t-I8RrIKZbA1"
      },
      "outputs": [],
      "source": [
        "4 in (A | B)"
      ]
    },
    {
      "cell_type": "markdown",
      "metadata": {
        "id": "yZSnOw0EZbA1"
      },
      "source": [
        "$A = B$"
      ]
    },
    {
      "cell_type": "code",
      "execution_count": null,
      "metadata": {
        "id": "dOfu19q5ZbA1"
      },
      "outputs": [],
      "source": [
        "A == B"
      ]
    },
    {
      "cell_type": "code",
      "execution_count": null,
      "metadata": {
        "id": "tJQTGY2RZbA1"
      },
      "outputs": [],
      "source": [
        "A == A2"
      ]
    },
    {
      "cell_type": "code",
      "execution_count": null,
      "metadata": {
        "id": "wkf3hVz3ZbA2"
      },
      "outputs": [],
      "source": [
        "{7,8,9} == {9,7,8}"
      ]
    },
    {
      "cell_type": "markdown",
      "metadata": {
        "id": "ftAnmSFLZbA2"
      },
      "source": [
        "$A \\subseteq B$"
      ]
    },
    {
      "cell_type": "code",
      "execution_count": null,
      "metadata": {
        "id": "3SCqR32sZbA2"
      },
      "outputs": [],
      "source": [
        "A <= B"
      ]
    },
    {
      "cell_type": "code",
      "execution_count": null,
      "metadata": {
        "id": "OEEAhIZoZbA2"
      },
      "outputs": [],
      "source": [
        "{1,2} <= A # \"subset,\" not \"less than\""
      ]
    },
    {
      "cell_type": "code",
      "execution_count": null,
      "metadata": {
        "id": "odsrNFHUZbA2"
      },
      "outputs": [],
      "source": [
        "set() <= set()"
      ]
    },
    {
      "cell_type": "markdown",
      "metadata": {
        "id": "R_RXI9O4ZbA3"
      },
      "source": [
        "$A \\subseteq A\\cup B$"
      ]
    },
    {
      "cell_type": "code",
      "execution_count": null,
      "metadata": {
        "id": "FUtA2oZcZbA3"
      },
      "outputs": [],
      "source": [
        "A <= (A | B)"
      ]
    },
    {
      "cell_type": "code",
      "execution_count": null,
      "metadata": {
        "id": "vd0XdcyqZbA3"
      },
      "outputs": [],
      "source": [
        "A <= (A | {34,234,'a'})"
      ]
    },
    {
      "cell_type": "markdown",
      "metadata": {
        "id": "BH47weqNZbA3"
      },
      "source": [
        "$A \\cap B \\subseteq A$"
      ]
    },
    {
      "cell_type": "code",
      "execution_count": null,
      "metadata": {
        "id": "feVW4D2GZbA3"
      },
      "outputs": [],
      "source": [
        "(A & B) <= A"
      ]
    },
    {
      "cell_type": "code",
      "execution_count": null,
      "metadata": {
        "id": "upBmaQQhZbA4"
      },
      "outputs": [],
      "source": [
        "(A & {123,234,345,'y'}) <= A"
      ]
    },
    {
      "cell_type": "code",
      "execution_count": null,
      "metadata": {
        "id": "qsAPwak1ZbA4"
      },
      "outputs": [],
      "source": [
        "A & {123,234,345,'y'}"
      ]
    },
    {
      "cell_type": "markdown",
      "metadata": {
        "id": "H0tVs5vYZbA4"
      },
      "source": [
        "Set-builder notation:\n",
        "\n",
        "$C = \\{x : x\\in \\mathbb{N} \\mbox{ and } x<10\\}$\n",
        "\n",
        "In Python, use a \"set comprehension\":"
      ]
    },
    {
      "cell_type": "code",
      "execution_count": null,
      "metadata": {
        "id": "ebMcSa8qZbA4"
      },
      "outputs": [],
      "source": [
        "C = {x for x in range(1,10)}\n",
        "print(C)"
      ]
    },
    {
      "cell_type": "markdown",
      "metadata": {
        "id": "bfckL37AZbA5"
      },
      "source": [
        "First 10 even numbers:"
      ]
    },
    {
      "cell_type": "code",
      "execution_count": null,
      "metadata": {
        "id": "4-r8kMKAZbA5"
      },
      "outputs": [],
      "source": [
        "{2*x for x in range(10)}"
      ]
    },
    {
      "cell_type": "code",
      "execution_count": null,
      "metadata": {
        "id": "Rn51ua4nZbA5"
      },
      "outputs": [],
      "source": [
        "A"
      ]
    },
    {
      "cell_type": "code",
      "execution_count": null,
      "metadata": {
        "id": "hd2M3lYyZbA5"
      },
      "outputs": [],
      "source": [
        "{2*x for x in A}"
      ]
    },
    {
      "cell_type": "code",
      "execution_count": null,
      "metadata": {
        "id": "csfaAa2GZbA6"
      },
      "outputs": [],
      "source": [
        "{x*x for x in [3,12,7,2,3,9]}"
      ]
    },
    {
      "cell_type": "markdown",
      "metadata": {
        "id": "qAVtrtKHZbA6"
      },
      "source": [
        "# Section 3.1: Problem 5. "
      ]
    },
    {
      "cell_type": "markdown",
      "metadata": {
        "id": "cASw-9_Eby4N"
      },
      "source": [
        "Let $A = \\{3x+1:x\\in \\mathbb{N}\\}$\n",
        "\n",
        "Let $B = \\{2x+1:x\\in \\mathbb{Z}^+\\}$\n",
        "\n",
        "Let $C = \\{6x+1:x\\in \\mathbb{Z}\\}$\n",
        "\n",
        "Let's define finite versions of these! $-10\\leq x<10$"
      ]
    },
    {
      "cell_type": "markdown",
      "metadata": {
        "id": "C_E20BewZbA6"
      },
      "source": [
        "$\\mathbb{Z}^+ = \\{1,2,\\dots\\}$\n",
        "\n",
        "$\\mathbb{Z}_{\\geq0} = \\{0,1,2,\\dots\\}$"
      ]
    },
    {
      "cell_type": "code",
      "execution_count": null,
      "metadata": {
        "id": "aqonJHMDZbA7"
      },
      "outputs": [],
      "source": [
        "A = {3*x + 1 for x in range(1,10)}\n",
        "print(set(range(1,10)))\n",
        "print('A: ' + str(A))"
      ]
    },
    {
      "cell_type": "code",
      "execution_count": null,
      "metadata": {
        "id": "9DRfufK-ZbA7"
      },
      "outputs": [],
      "source": [
        "B = {2*x + 1 for x in range(1,10)}\n",
        "print(set(range(1,10)))\n",
        "print('B: ' + str(B))"
      ]
    },
    {
      "cell_type": "code",
      "execution_count": null,
      "metadata": {
        "id": "rim14Or8ZbA7"
      },
      "outputs": [],
      "source": [
        "C = {6*x + 1 for x in range(-10,10)}\n",
        "print(set(range(-10,10)))\n",
        "print('C: ' + str(C))"
      ]
    },
    {
      "cell_type": "markdown",
      "metadata": {
        "id": "zt7nI-1KZbA7"
      },
      "source": [
        "part (a): list 5 elements that are in $A\\cap B$:"
      ]
    },
    {
      "cell_type": "code",
      "execution_count": null,
      "metadata": {
        "id": "kiCPC7EoZbA8"
      },
      "outputs": [],
      "source": [
        "A & B"
      ]
    },
    {
      "cell_type": "markdown",
      "metadata": {
        "id": "J7rcFRvQZbA8"
      },
      "source": [
        "part (b): list 5 elements that are in $A\\cup C$:"
      ]
    },
    {
      "cell_type": "code",
      "execution_count": null,
      "metadata": {
        "id": "m-2FHd6-ZbA8"
      },
      "outputs": [],
      "source": [
        "A | C"
      ]
    },
    {
      "cell_type": "markdown",
      "metadata": {
        "id": "SQ0OP6jnZbA9"
      },
      "source": [
        "part (c): list 5 elements that are in $B - A$:"
      ]
    },
    {
      "cell_type": "code",
      "execution_count": null,
      "metadata": {
        "id": "2fuSsHsKZbA9"
      },
      "outputs": [],
      "source": [
        "B - A"
      ]
    },
    {
      "cell_type": "code",
      "execution_count": null,
      "metadata": {
        "id": "exLe6hUJZbA9"
      },
      "outputs": [],
      "source": [
        "A - C"
      ]
    },
    {
      "cell_type": "code",
      "execution_count": null,
      "metadata": {
        "id": "U8Kc90WpZbA9"
      },
      "outputs": [],
      "source": []
    },
    {
      "cell_type": "markdown",
      "metadata": {
        "id": "I6EZEnMcblOV"
      },
      "source": [
        "# Quiz:"
      ]
    },
    {
      "cell_type": "markdown",
      "metadata": {
        "id": "fMQKP1zbbsnD"
      },
      "source": [
        "Define the following sets:\n",
        "\\begin{align*}\n",
        "S_1 &= \\{n \\bmod 25 : n \\in \\mathbb{Z}\\} \\\\\n",
        "S_2 &= \\{3n : n\\in \\mathbb{N}\\} \\\\\n",
        "S_3 &= \\{-n : n\\in \\mathbb{Z}\\} \\\\\n",
        "S_4 &= \\{n : n\\in \\mathbb{Z} \\mbox{ and } n\\leq 10\\}\n",
        "\\end{align*}"
      ]
    },
    {
      "cell_type": "code",
      "execution_count": null,
      "metadata": {
        "id": "_Cmks7qQg0aW"
      },
      "outputs": [],
      "source": []
    }
  ],
  "metadata": {
    "colab": {
      "collapsed_sections": [
        "qAVtrtKHZbA6",
        "I6EZEnMcblOV"
      ],
      "provenance": []
    },
    "kernelspec": {
      "display_name": "Python 3.10.5 64-bit",
      "language": "python",
      "name": "python3"
    },
    "language_info": {
      "codemirror_mode": {
        "name": "ipython",
        "version": 3
      },
      "file_extension": ".py",
      "mimetype": "text/x-python",
      "name": "python",
      "nbconvert_exporter": "python",
      "pygments_lexer": "ipython3",
      "version": "3.10.5"
    },
    "vscode": {
      "interpreter": {
        "hash": "5a61b42ffab7c28424a92532d863d0610f048a2a690d324e34b39f5128b0b152"
      }
    }
  },
  "nbformat": 4,
  "nbformat_minor": 0
}
