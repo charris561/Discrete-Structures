{
 "cells": [
  {
   "cell_type": "markdown",
   "metadata": {},
   "source": [
    "# Section 2.1 exercise 2"
   ]
  },
  {
   "cell_type": "markdown",
   "metadata": {},
   "source": [
    "Part (a): For each $n\\geq 1$ and $m\\geq 1$, if $m$ is odd and $n$ is even, them $m + n$ is divisible by 3."
   ]
  },
  {
   "cell_type": "code",
   "execution_count": 7,
   "metadata": {},
   "outputs": [
    {
     "name": "stdout",
     "output_type": "stream",
     "text": [
      "(1, 2, True)\n",
      "(1, 4, False)\n",
      "(3, 2, False)\n",
      "(3, 4, False)\n",
      "(5, 2, False)\n",
      "(5, 4, True)\n"
     ]
    }
   ],
   "source": [
    "for m in range (1, 6, 2):\n",
    "    for n in range (2, 6, 2):\n",
    "        to_print = (m, n, ((m+n) % 3 == 0))\n",
    "        print (to_print)"
   ]
  },
  {
   "cell_type": "markdown",
   "metadata": {},
   "source": [
    "For each $n\\geq 1$, if $n$ is odd and divisible by 3, then $n^2 - 1$ is divisible by 8."
   ]
  },
  {
   "cell_type": "code",
   "execution_count": 13,
   "metadata": {},
   "outputs": [
    {
     "name": "stdout",
     "output_type": "stream",
     "text": [
      "(3, 8, True)\n",
      "(9, 80, True)\n",
      "(15, 224, True)\n",
      "(21, 440, True)\n",
      "(27, 728, True)\n",
      "(33, 1088, True)\n",
      "(39, 1520, True)\n",
      "(45, 2024, True)\n",
      "(51, 2600, True)\n",
      "(57, 3248, True)\n",
      "(63, 3968, True)\n",
      "(69, 4760, True)\n",
      "(75, 5624, True)\n",
      "(81, 6560, True)\n",
      "(87, 7568, True)\n",
      "(93, 8648, True)\n",
      "(99, 9800, True)\n"
     ]
    }
   ],
   "source": [
    "for n in range( 1, 100, 2):\n",
    "    if (n % 3 == 0):\n",
    "        to_print = (n, n*n - 1, ((n*n - 1) % 8 == 0))\n",
    "        print (to_print)"
   ]
  },
  {
   "cell_type": "markdown",
   "metadata": {},
   "source": [
    "(d) For each $n\\geq 1$, if $n$ is odd, then $4^n -1$ is prime."
   ]
  },
  {
   "cell_type": "code",
   "execution_count": 17,
   "metadata": {},
   "outputs": [
    {
     "name": "stdout",
     "output_type": "stream",
     "text": [
      "(1, 3, True)\n",
      "(3, 63, False)\n",
      "(5, 1023, False)\n",
      "(7, 16383, False)\n",
      "(9, 262143, False)\n",
      "(11, 4194303, False)\n",
      "(13, 67108863, False)\n",
      "(15, 1073741823, False)\n",
      "(17, 17179869183, False)\n",
      "(19, 274877906943, False)\n"
     ]
    }
   ],
   "source": [
    "import sympy\n",
    "for n in range(1, 20, 2):\n",
    "    if (n >= 1):\n",
    "        to_print = (n, 4**n -1, sympy.isprime(4**n -1))\n",
    "        print(to_print)"
   ]
  },
  {
   "cell_type": "markdown",
   "metadata": {},
   "source": [
    "(f) For each $n\\geq1$ and $m\\geq1$, if $m$, and $n$ are even, then $mn-1$ is not a perfect square."
   ]
  },
  {
   "cell_type": "code",
   "execution_count": 27,
   "metadata": {},
   "outputs": [
    {
     "name": "stdout",
     "output_type": "stream",
     "text": [
      "(2, 2, 3, True)\n",
      "(2, 4, 7, True)\n",
      "(2, 6, 11, True)\n",
      "(2, 8, 15, True)\n",
      "(4, 4, 15, True)\n",
      "(4, 6, 23, True)\n",
      "(4, 8, 31, True)\n",
      "(6, 6, 35, True)\n",
      "(6, 8, 47, True)\n",
      "(8, 8, 63, True)\n"
     ]
    }
   ],
   "source": [
    "import math\n",
    "def isPerfectSquare(k):\n",
    "    squareRoot = math.sqrt(k)\n",
    "    intSqrt = int(squareRoot)\n",
    "    intSquared = intSqrt*intSqrt\n",
    "    return intSquared == k\n",
    "\n",
    "for n in range (1, 10):\n",
    "    for m in range (1, 10):\n",
    "        if ((m % 2 == 0) and (n % 2 == 0) and (m >= n)):\n",
    "            to_print = (n, m, m*n - 1, not isPerfectSquare(m*n - 1))\n",
    "            print (to_print)"
   ]
  }
 ],
 "metadata": {
  "kernelspec": {
   "display_name": "Python 3.10.6 64-bit",
   "language": "python",
   "name": "python3"
  },
  "language_info": {
   "codemirror_mode": {
    "name": "ipython",
    "version": 3
   },
   "file_extension": ".py",
   "mimetype": "text/x-python",
   "name": "python",
   "nbconvert_exporter": "python",
   "pygments_lexer": "ipython3",
   "version": "3.10.6"
  },
  "orig_nbformat": 4,
  "vscode": {
   "interpreter": {
    "hash": "26de051ba29f2982a8de78e945f0abaf191376122a1563185a90213a26c5da77"
   }
  }
 },
 "nbformat": 4,
 "nbformat_minor": 2
}
