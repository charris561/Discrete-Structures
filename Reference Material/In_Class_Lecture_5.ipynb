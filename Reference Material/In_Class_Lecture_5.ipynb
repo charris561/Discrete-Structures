{
  "cells": [
    {
      "cell_type": "markdown",
      "metadata": {
        "colab_type": "text",
        "id": "view-in-github"
      },
      "source": [
        "<a href=\"https://colab.research.google.com/github/charris561/Discrete-Structures/blob/main/Reference%20Material/In_Class_Lecture_5.ipynb\" target=\"_parent\"><img src=\"https://colab.research.google.com/assets/colab-badge.svg\" alt=\"Open In Colab\"/></a>"
      ]
    },
    {
      "cell_type": "markdown",
      "metadata": {
        "id": "AHW4pXApJBFd"
      },
      "source": [
        "\n",
        "\n",
        "# Why proofs?\n"
      ]
    },
    {
      "cell_type": "markdown",
      "metadata": {
        "id": "lpXeC8NxJG7c"
      },
      "source": [
        "\n",
        "\n",
        "1.   Proofs are a *fundamental mathematical process.*\n",
        "  - They are how we know certain kinds of mathematical facts: why is cryptography useful? it was proven to be useful.\n",
        "  - They underlie every computer and programming language ever built; take CS 4700 and CS 4100 if you want to know more\n",
        "2.   Proofs are like coding. You have to:\n",
        "  - be careful with types\n",
        "  - be careful with precedence\n",
        "  - be careful with operations\n",
        "  - be sure that the answer is right in the end!\n",
        "\n"
      ]
    },
    {
      "cell_type": "markdown",
      "metadata": {
        "id": "olPE_ZzoHKQ0"
      },
      "source": [
        "# A note on the Python `and` operator.\n",
        "\n",
        "It might not always work how you think..."
      ]
    },
    {
      "cell_type": "markdown",
      "metadata": {
        "id": "CD0AjyaNHUVO"
      },
      "source": [
        "Every time I teach this class, someone tries to write \n",
        "$$ (x \\land y) > 0 $$\n",
        "when they really mean\n",
        "$$ (x > 0) \\land (y>0)$$\n",
        "\n",
        "What is wrong with the first one?\n",
        "\n",
        "So let's test it out!"
      ]
    },
    {
      "cell_type": "code",
      "execution_count": null,
      "metadata": {
        "id": "gI_iQX-cHSVU"
      },
      "outputs": [],
      "source": []
    },
    {
      "cell_type": "markdown",
      "metadata": {
        "id": "D_OwjtkQJAOU"
      },
      "source": [
        "Why does all this weirdness happen? Python does not evaluate most numbers to False, and the and operator checks if x is False; if it is not False, it checks y; if y is not False, it returns y. "
      ]
    },
    {
      "cell_type": "code",
      "execution_count": null,
      "metadata": {
        "id": "FFyFzdklKhBC"
      },
      "outputs": [],
      "source": []
    },
    {
      "cell_type": "markdown",
      "metadata": {
        "id": "wtOEsdzGKlc7"
      },
      "source": [
        "# Can we *prove* that the Python `and` operator doesn't work in the way we attempted above?\n"
      ]
    },
    {
      "cell_type": "markdown",
      "metadata": {
        "id": "wlD6ZuqkLPB0"
      },
      "source": [
        "What process would we use?\n",
        "\n",
        "1. **Try to understand it by hand** as well as possible\n",
        " - plug in simple cases and see what happens!\n",
        " - look for patterns!\n",
        " - (does this sound like \"create an inspection table?\")\n",
        "1. **Form a conjecture.** \n",
        "  - Never try proving something until you are pretty sure it's true!\n",
        "  - if you think it's true, then you can try proving\n",
        "  - if you think it's false, you can try to form a counterexample\n",
        "\n",
        "In this case, our conjecture is that \n",
        "$$ (x \\land y) > 0 $$\n",
        "is **not logically equivalent to**\n",
        "$$ (x > 0) \\land (y>0)$$\n",
        "Then you can write code to try it out!"
      ]
    },
    {
      "cell_type": "code",
      "execution_count": null,
      "metadata": {
        "id": "caZa_UiLLROC"
      },
      "outputs": [],
      "source": [
        "def ourConjecture(x,y) :\n",
        "  pass\n",
        "  "
      ]
    },
    {
      "cell_type": "code",
      "execution_count": null,
      "metadata": {
        "id": "fMFbF6eKLxoF"
      },
      "outputs": [],
      "source": [
        "## Then write nested for loops to look for counterexamples!"
      ]
    },
    {
      "cell_type": "markdown",
      "metadata": {
        "id": "2FHbmB3XL2e3"
      },
      "source": [
        "# What kinds of things can you prove using computer code?"
      ]
    },
    {
      "cell_type": "markdown",
      "metadata": {
        "id": "tYYL5T4uL7Pf"
      },
      "source": [
        "Can prove equivalence of logical statements!\n",
        "\n",
        "Here is the function from Project 1:"
      ]
    },
    {
      "cell_type": "code",
      "execution_count": null,
      "metadata": {
        "id": "4C7kcOoLMDPB"
      },
      "outputs": [],
      "source": [
        "def aWildFunctionAppears(p, q, r, s):\n",
        "    if not s and not r:\n",
        "        if p and r:\n",
        "            return True\n",
        "        if p:\n",
        "            return True\n",
        "        if q and r:\n",
        "            return True\n",
        "        if q:\n",
        "            return True\n",
        "        return False\n",
        "    return False"
      ]
    },
    {
      "cell_type": "markdown",
      "metadata": {
        "id": "xDUTijNVMGxx"
      },
      "source": [
        "Suppose you thought that this function was equivalent to \n",
        "$$ p \\land q \\land r \\land s $$\n",
        "\n",
        "How could you write code to check if you were right?"
      ]
    },
    {
      "cell_type": "code",
      "execution_count": null,
      "metadata": {
        "id": "1gnSLZPhMDro"
      },
      "outputs": [],
      "source": [
        "def conjecture2(p,q,r,s) :\n",
        "  pass"
      ]
    },
    {
      "cell_type": "code",
      "execution_count": null,
      "metadata": {
        "id": "-nrysIIMMXC4"
      },
      "outputs": [],
      "source": [
        "# for loops to check"
      ]
    },
    {
      "cell_type": "markdown",
      "metadata": {
        "id": "77TdAq5qNxAG"
      },
      "source": [
        "# Today's in-class assignment"
      ]
    },
    {
      "cell_type": "markdown",
      "metadata": {
        "id": "GDBVP5Y0NyEM"
      },
      "source": [
        "Here is a statement:\n",
        "\n",
        "Given a positive integer $N\\geq 10$, form the number $N'$ by removing the ones' digit from $N$ and subtracting it from the remaining truncated integer.\n",
        "\n",
        "For example, if $N=1309$, then $N'=130-9=121$.\n",
        "\n",
        "The statement to check is:\n",
        "\n",
        "If $N'$ is divisible by 11, then $N$ is divisible by 11."
      ]
    },
    {
      "cell_type": "markdown",
      "metadata": {
        "id": "Mx8VScH7SAPe"
      },
      "source": [
        "Hint: you may find it useful to cast $N$ to a string so you can manipulate its digits, then get the digits you need and cast back to integers. Try the functions `str()` and `int()`.\n",
        "\n",
        "You may also use the following function to check if a number is divisible by 11:"
      ]
    },
    {
      "cell_type": "code",
      "execution_count": null,
      "metadata": {
        "colab": {
          "base_uri": "https://localhost:8080/"
        },
        "id": "7bWrNtouOSGI",
        "outputId": "09165509-5ec3-4524-a195-ea691fb1b4f3"
      },
      "outputs": [
        {
          "data": {
            "text/plain": [
              "121"
            ]
          },
          "execution_count": 19,
          "metadata": {},
          "output_type": "execute_result"
        }
      ],
      "source": [
        "def divisibleBy11(n) :\n",
        "  return n % 11 == 0\n",
        "\n",
        "def getNPrime(n):\n",
        "  if (n >= 10):\n",
        "    nstr = str(n)\n",
        "    lastNum = nstr[-1]\n",
        "    firstNum = nstr[:-1]\n",
        "    return int(firstNum) - int(lastNum)\n",
        "\n",
        "n = 1309\n",
        "getNPrime(n)\n",
        "\n",
        "  "
      ]
    },
    {
      "cell_type": "code",
      "execution_count": null,
      "metadata": {
        "id": "ZE8p9RbXPoeS"
      },
      "outputs": [],
      "source": []
    }
  ],
  "metadata": {
    "colab": {
      "collapsed_sections": [],
      "include_colab_link": true,
      "provenance": []
    },
    "kernelspec": {
      "display_name": "Python 3.10.6 64-bit",
      "language": "python",
      "name": "python3"
    },
    "language_info": {
      "name": "python",
      "version": "3.10.6"
    },
    "vscode": {
      "interpreter": {
        "hash": "26de051ba29f2982a8de78e945f0abaf191376122a1563185a90213a26c5da77"
      }
    }
  },
  "nbformat": 4,
  "nbformat_minor": 0
}
