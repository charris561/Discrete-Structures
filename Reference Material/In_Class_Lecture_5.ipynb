{
  "nbformat": 4,
  "nbformat_minor": 0,
  "metadata": {
    "colab": {
      "provenance": [],
      "collapsed_sections": [],
      "include_colab_link": true
    },
    "kernelspec": {
      "name": "python3",
      "display_name": "Python 3"
    },
    "language_info": {
      "name": "python"
    }
  },
  "cells": [
    {
      "cell_type": "markdown",
      "metadata": {
        "id": "view-in-github",
        "colab_type": "text"
      },
      "source": [
        "<a href=\"https://colab.research.google.com/github/charris561/Discrete-Structures/blob/main/Reference%20Material/In_Class_Lecture_5.ipynb\" target=\"_parent\"><img src=\"https://colab.research.google.com/assets/colab-badge.svg\" alt=\"Open In Colab\"/></a>"
      ]
    },
    {
      "cell_type": "markdown",
      "source": [
        "\n",
        "\n",
        "# Why proofs?\n"
      ],
      "metadata": {
        "id": "AHW4pXApJBFd"
      }
    },
    {
      "cell_type": "markdown",
      "source": [
        "\n",
        "\n",
        "1.   Proofs are a *fundamental mathematical process.*\n",
        "  - They are how we know certain kinds of mathematical facts: why is cryptography useful? it was proven to be useful.\n",
        "  - They underlie every computer and programming language ever built; take CS 4700 and CS 4100 if you want to know more\n",
        "2.   Proofs are like coding. You have to:\n",
        "  - be careful with types\n",
        "  - be careful with precedence\n",
        "  - be careful with operations\n",
        "  - be sure that the answer is right in the end!\n",
        "\n"
      ],
      "metadata": {
        "id": "lpXeC8NxJG7c"
      }
    },
    {
      "cell_type": "markdown",
      "source": [
        "# A note on the Python `and` operator.\n",
        "\n",
        "It might not always work how you think..."
      ],
      "metadata": {
        "id": "olPE_ZzoHKQ0"
      }
    },
    {
      "cell_type": "markdown",
      "source": [
        "Every time I teach this class, someone tries to write \n",
        "$$ (x \\land y) > 0 $$\n",
        "when they really mean\n",
        "$$ (x > 0) \\land (y>0)$$\n",
        "\n",
        "What is wrong with the first one?\n",
        "\n",
        "So let's test it out!"
      ],
      "metadata": {
        "id": "CD0AjyaNHUVO"
      }
    },
    {
      "cell_type": "code",
      "source": [],
      "metadata": {
        "id": "gI_iQX-cHSVU"
      },
      "execution_count": null,
      "outputs": []
    },
    {
      "cell_type": "markdown",
      "source": [
        "Why does all this weirdness happen? Python does not evaluate most numbers to False, and the and operator checks if x is False; if it is not False, it checks y; if y is not False, it returns y. "
      ],
      "metadata": {
        "id": "D_OwjtkQJAOU"
      }
    },
    {
      "cell_type": "code",
      "source": [],
      "metadata": {
        "id": "FFyFzdklKhBC"
      },
      "execution_count": null,
      "outputs": []
    },
    {
      "cell_type": "markdown",
      "source": [
        "# Can we *prove* that the Python `and` operator doesn't work in the way we attempted above?\n"
      ],
      "metadata": {
        "id": "wtOEsdzGKlc7"
      }
    },
    {
      "cell_type": "markdown",
      "source": [
        "What process would we use?\n",
        "\n",
        "1. **Try to understand it by hand** as well as possible\n",
        " - plug in simple cases and see what happens!\n",
        " - look for patterns!\n",
        " - (does this sound like \"create an inspection table?\")\n",
        "1. **Form a conjecture.** \n",
        "  - Never try proving something until you are pretty sure it's true!\n",
        "  - if you think it's true, then you can try proving\n",
        "  - if you think it's false, you can try to form a counterexample\n",
        "\n",
        "In this case, our conjecture is that \n",
        "$$ (x \\land y) > 0 $$\n",
        "is **not logically equivalent to**\n",
        "$$ (x > 0) \\land (y>0)$$\n",
        "Then you can write code to try it out!"
      ],
      "metadata": {
        "id": "wlD6ZuqkLPB0"
      }
    },
    {
      "cell_type": "code",
      "source": [
        "def ourConjecture(x,y) :\n",
        "  pass\n",
        "  "
      ],
      "metadata": {
        "id": "caZa_UiLLROC"
      },
      "execution_count": null,
      "outputs": []
    },
    {
      "cell_type": "code",
      "source": [
        "## Then write nested for loops to look for counterexamples!"
      ],
      "metadata": {
        "id": "fMFbF6eKLxoF"
      },
      "execution_count": null,
      "outputs": []
    },
    {
      "cell_type": "markdown",
      "source": [
        "# What kinds of things can you prove using computer code?"
      ],
      "metadata": {
        "id": "2FHbmB3XL2e3"
      }
    },
    {
      "cell_type": "markdown",
      "source": [
        "Can prove equivalence of logical statements!\n",
        "\n",
        "Here is the function from Project 1:"
      ],
      "metadata": {
        "id": "tYYL5T4uL7Pf"
      }
    },
    {
      "cell_type": "code",
      "source": [
        "def aWildFunctionAppears(p, q, r, s):\n",
        "    if not s and not r:\n",
        "        if p and r:\n",
        "            return True\n",
        "        if p:\n",
        "            return True\n",
        "        if q and r:\n",
        "            return True\n",
        "        if q:\n",
        "            return True\n",
        "        return False\n",
        "    return False"
      ],
      "metadata": {
        "id": "4C7kcOoLMDPB"
      },
      "execution_count": null,
      "outputs": []
    },
    {
      "cell_type": "markdown",
      "source": [
        "Suppose you thought that this function was equivalent to \n",
        "$$ p \\land q \\land r \\land s $$\n",
        "\n",
        "How could you write code to check if you were right?"
      ],
      "metadata": {
        "id": "xDUTijNVMGxx"
      }
    },
    {
      "cell_type": "code",
      "source": [
        "def conjecture2(p,q,r,s) :\n",
        "  pass"
      ],
      "metadata": {
        "id": "1gnSLZPhMDro"
      },
      "execution_count": null,
      "outputs": []
    },
    {
      "cell_type": "code",
      "source": [
        "# for loops to check"
      ],
      "metadata": {
        "id": "-nrysIIMMXC4"
      },
      "execution_count": null,
      "outputs": []
    },
    {
      "cell_type": "markdown",
      "source": [
        "# Today's in-class assignment"
      ],
      "metadata": {
        "id": "77TdAq5qNxAG"
      }
    },
    {
      "cell_type": "markdown",
      "source": [
        "Here is a statement:\n",
        "\n",
        "Given a positive integer $N\\geq 10$, form the number $N'$ by removing the ones' digit from $N$ and subtracting it from the remaining truncated integer.\n",
        "\n",
        "For example, if $N=1309$, then $N'=130-9=121$.\n",
        "\n",
        "The statement to check is:\n",
        "\n",
        "If $N'$ is divisible by 11, then $N$ is divisible by 11."
      ],
      "metadata": {
        "id": "GDBVP5Y0NyEM"
      }
    },
    {
      "cell_type": "markdown",
      "source": [
        "Hint: you may find it useful to cast $N$ to a string so you can manipulate its digits, then get the digits you need and cast back to integers. Try the functions `str()` and `int()`.\n",
        "\n",
        "You may also use the following function to check if a number is divisible by 11:"
      ],
      "metadata": {
        "id": "Mx8VScH7SAPe"
      }
    },
    {
      "cell_type": "code",
      "source": [
        "def divisibleBy11(n) :\n",
        "  return n % 11 == 0\n",
        "\n",
        "def getNPrime(n):\n",
        "  if (n >= 10):\n",
        "    nstr = str(n)\n",
        "    lastNum = nstr[-1]\n",
        "    firstNum = nstr[:-1]\n",
        "    return int(firstNum) - int(lastNum)\n",
        "\n",
        "n = 1309\n",
        "getNPrime(n)\n",
        "\n",
        "  "
      ],
      "metadata": {
        "id": "7bWrNtouOSGI",
        "colab": {
          "base_uri": "https://localhost:8080/"
        },
        "outputId": "09165509-5ec3-4524-a195-ea691fb1b4f3"
      },
      "execution_count": null,
      "outputs": [
        {
          "output_type": "execute_result",
          "data": {
            "text/plain": [
              "121"
            ]
          },
          "metadata": {},
          "execution_count": 19
        }
      ]
    },
    {
      "cell_type": "code",
      "source": [],
      "metadata": {
        "id": "ZE8p9RbXPoeS"
      },
      "execution_count": null,
      "outputs": []
    }
  ]
}