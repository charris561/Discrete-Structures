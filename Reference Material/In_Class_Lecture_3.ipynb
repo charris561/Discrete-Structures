{
  "cells": [
    {
      "cell_type": "markdown",
      "metadata": {
        "id": "ulpzFGczRVtD"
      },
      "source": [
        "# Predicates"
      ]
    },
    {
      "cell_type": "markdown",
      "metadata": {
        "id": "XFDe4Ei5Rq9r"
      },
      "source": [
        "In the video lectures, you learned about this thing called a \"predicate,\" a logical proposition that is ambiguous until you plug in a value. For example, we could let $P(x)$ be the predicate\n",
        "$$\n",
        "x^2 - 4x + 4 = 0\n",
        "$$"
      ]
    },
    {
      "cell_type": "markdown",
      "metadata": {
        "id": "9OTQ6sxbSG6F"
      },
      "source": [
        "Predicates add a layer of complexity (but also flexibility) to logical propositions, because in their basic form they are *ambiguous*. Is the predicate P(x) above `True` or `False`? It depends on what $x$ you plug in!\n",
        "\n",
        "What happens if we simply write the above in code?\n",
        "\n",
        "Note: you can't just write the above directly, since in Python the `=` symbol is the *assignment* operator. Instead of `=`, you have to use `==` which means *equal to*."
      ]
    },
    {
      "cell_type": "code",
      "execution_count": 1,
      "metadata": {
        "id": "iQw3GgaVHdBV"
      },
      "outputs": [
        {
          "data": {
            "text/plain": [
              "False"
            ]
          },
          "execution_count": 1,
          "metadata": {},
          "output_type": "execute_result"
        }
      ],
      "source": [
        "#x**2 is 2^2\n",
        "x=1\n",
        "x**x - 4*x + 4 == 0"
      ]
    },
    {
      "cell_type": "markdown",
      "metadata": {
        "id": "e9bQW6avRQ_q"
      },
      "source": [
        "What happened? The same thing that would happen if I asked you \"Is $P(x)$ true?\"\n",
        "\n",
        "$P(x)$ doesn't have a truth value until you plug a number in.\n",
        "\n",
        "One way to \"plug a number in is to assign a value to `x` and just repeat the expression:"
      ]
    },
    {
      "cell_type": "code",
      "execution_count": null,
      "metadata": {
        "id": "g8nQdViFT_t4"
      },
      "outputs": [],
      "source": [
        "x = 1\n",
        "print(x*x - 4*x + 4 == 0)"
      ]
    },
    {
      "cell_type": "markdown",
      "metadata": {
        "id": "c9AXUxXrUEKa"
      },
      "source": [
        "Now, what happened here? When we assigned the value `1` to `x`, the predicate expression stoppped being ambiguous.\n",
        "\n",
        "`x*x - 4*x + 4 == 0` became `1-4+4 == 0`, or `1 == 0`, which evaluates to `False`.\n",
        "\n",
        "You might not be used to thinking about logical expressions as *having a truth value* in a programming language, but that's how it works:"
      ]
    },
    {
      "cell_type": "code",
      "execution_count": null,
      "metadata": {
        "id": "OWL7Ql1gUB9Y"
      },
      "outputs": [],
      "source": [
        "1>0 # is 1 greater than 0?"
      ]
    },
    {
      "cell_type": "markdown",
      "metadata": {
        "id": "q62Hb5UTUtwq"
      },
      "source": [
        "Is the same exact thing as"
      ]
    },
    {
      "cell_type": "code",
      "execution_count": null,
      "metadata": {
        "id": "U2ii0VXQUsYJ"
      },
      "outputs": [],
      "source": [
        "(1>0) == True # does (1>0) have the value True?"
      ]
    },
    {
      "cell_type": "markdown",
      "metadata": {
        "id": "XH7r0kP1U35a"
      },
      "source": [
        "Back to the predicate. Are there any values of `x` which make our predicate True?"
      ]
    },
    {
      "cell_type": "code",
      "execution_count": null,
      "metadata": {
        "id": "l-FwEW_UUwG5"
      },
      "outputs": [],
      "source": [
        "x = 2\n",
        "print(x*x - 4*x + 4 == 0)"
      ]
    },
    {
      "cell_type": "markdown",
      "metadata": {
        "id": "hmePoDLZVFZk"
      },
      "source": [
        "Do the math by hand to make sure it makes sense: if $x=2$, then \n",
        "\n",
        "`x*x - 4*x + 4 == 0` becomes `4-8+4 == 0`, or `0 == 0`, which evaluates to `True`."
      ]
    },
    {
      "cell_type": "markdown",
      "metadata": {
        "id": "iKVBf19SWLrt"
      },
      "source": [
        "# Predicates natively in Python?"
      ]
    },
    {
      "cell_type": "markdown",
      "metadata": {
        "id": "OxiQvSVuVV7k"
      },
      "source": [
        "But this is very cumbersome. If we want to reuse our predicate in a meaningful way, does Python have a construct which lets us define it directly as a predicate?\n",
        "\n",
        "Yes! It's called a function. \"Predicate\" is just the mathy name for a boolean-valued function! To define a function in Python, use the `def` keyword followed by the function name:"
      ]
    },
    {
      "cell_type": "code",
      "execution_count": 3,
      "metadata": {
        "id": "qQSs-M6-U_pc"
      },
      "outputs": [],
      "source": [
        "def P(x) :\n",
        "  return x*x - 4*x + 4 == 0"
      ]
    },
    {
      "cell_type": "markdown",
      "metadata": {
        "id": "8nnxBoPxW2eI"
      },
      "source": [
        "Note: indentation defines what is inside the function scope. The `x` referenced *inside the function* is different from the `x` which we've defined elsewhere in the notebook.\n",
        "\n",
        "Note: we did *not* declare the function type; we just created it directly so that it always returns a `bool`. This is a danger spot for Python! **You are responsible for making sure your functions return what you want them to return.** Python isn't going to check your work."
      ]
    },
    {
      "cell_type": "code",
      "execution_count": 4,
      "metadata": {
        "id": "cdYOWeJjWfTt"
      },
      "outputs": [
        {
          "data": {
            "text/plain": [
              "False"
            ]
          },
          "execution_count": 4,
          "metadata": {},
          "output_type": "execute_result"
        }
      ],
      "source": [
        "P(0)"
      ]
    },
    {
      "cell_type": "code",
      "execution_count": 5,
      "metadata": {
        "id": "m4m8AWnNWhY9"
      },
      "outputs": [
        {
          "data": {
            "text/plain": [
              "False"
            ]
          },
          "execution_count": 5,
          "metadata": {},
          "output_type": "execute_result"
        }
      ],
      "source": [
        "P(1)"
      ]
    },
    {
      "cell_type": "code",
      "execution_count": 6,
      "metadata": {
        "id": "KYimFgsvWnHN"
      },
      "outputs": [
        {
          "data": {
            "text/plain": [
              "True"
            ]
          },
          "execution_count": 6,
          "metadata": {},
          "output_type": "execute_result"
        }
      ],
      "source": [
        "P(2)"
      ]
    },
    {
      "cell_type": "code",
      "execution_count": 7,
      "metadata": {
        "id": "E_WtVhDbWnnO"
      },
      "outputs": [
        {
          "data": {
            "text/plain": [
              "False"
            ]
          },
          "execution_count": 7,
          "metadata": {},
          "output_type": "execute_result"
        }
      ],
      "source": [
        "P(-1)"
      ]
    },
    {
      "cell_type": "markdown",
      "metadata": {
        "id": "3x53oTXLWyYe"
      },
      "source": [
        "Now, our `P(x)` function behaves exactly like a real predicate! It doesn't have a truth value until we plug a number in, and then the truth value is unambiguous.\n",
        "\n",
        "We can also negate it easily. How? Well, the cumbersome way would be to define a new predicate that contains the negated statement:"
      ]
    },
    {
      "cell_type": "code",
      "execution_count": null,
      "metadata": {
        "id": "ry-yXLgOWwR-"
      },
      "outputs": [],
      "source": [
        "def negatedP(x) :\n",
        "  return x*x - 4*x + 4 != 0"
      ]
    },
    {
      "cell_type": "code",
      "execution_count": null,
      "metadata": {
        "id": "ORV31O72Xwkg"
      },
      "outputs": [],
      "source": [
        "negatedP(0)"
      ]
    },
    {
      "cell_type": "code",
      "execution_count": null,
      "metadata": {
        "id": "rDTM75zAXxux"
      },
      "outputs": [],
      "source": [
        "negatedP(1)"
      ]
    },
    {
      "cell_type": "code",
      "execution_count": null,
      "metadata": {
        "id": "JGmch5ojXypi"
      },
      "outputs": [],
      "source": [
        "negatedP(2)"
      ]
    },
    {
      "cell_type": "markdown",
      "metadata": {
        "id": "6RITeb-rX4B6"
      },
      "source": [
        "Or, we could use the original predicate with the keyword `not`:"
      ]
    },
    {
      "cell_type": "code",
      "execution_count": null,
      "metadata": {
        "id": "PbacAZ9MXzcf"
      },
      "outputs": [],
      "source": [
        "not P(0)"
      ]
    },
    {
      "cell_type": "code",
      "execution_count": null,
      "metadata": {
        "id": "bMooXr73X9bA"
      },
      "outputs": [],
      "source": [
        "not P(1)"
      ]
    },
    {
      "cell_type": "code",
      "execution_count": null,
      "metadata": {
        "id": "6hiv2oo7X-sR"
      },
      "outputs": [],
      "source": [
        "not P(2)"
      ]
    },
    {
      "cell_type": "markdown",
      "metadata": {
        "id": "IsYkNBR8Y-v9"
      },
      "source": [
        "# Quantified Predicates"
      ]
    },
    {
      "cell_type": "markdown",
      "metadata": {
        "id": "tRdvRkKbZjdW"
      },
      "source": [
        "Since a predicate is neither true nor false all alone, we need a way to talk about truth in a more general sense. We do this with the quantifiers $\\forall$ and $\\exists$.\n",
        "\n",
        "If we say \n",
        "$$\n",
        "\\forall x,\\ x^2 - 4x + 4 = 0\n",
        "$$\n",
        "this statement is false. Why? Because it's saying \"no matter what $x$ you plug in, you'll get a true statement. How would we check this in code? \n",
        "\n",
        "Danger: you can't necessarily write code that is *guaranteed* to give you the right answer. Why? Because there may be infinitely-many things you can plug into the predicate! \"For all $x$\" is infinitely-many inputs!\n",
        "\n",
        "However, code can still be useful here, since you can use it to check a lot of values. Not *all*, but a lot.\n",
        "\n",
        "If we want to check if the above **quantified predicate** is true, what would we do? You could write a for loop!"
      ]
    },
    {
      "cell_type": "code",
      "execution_count": null,
      "metadata": {
        "id": "QGbN4eoGYj_S"
      },
      "outputs": [],
      "source": [
        "for x in range(-10000,10001,1) :  # check all the integers from -10000 to 10000\n",
        "  if not P(x) :                   # if P(x) is false, then we can stop (because we found a counterexample)\n",
        "    print(x)                      # then print the x that made it false\n",
        "    break                         # and break out of the for loop"
      ]
    },
    {
      "cell_type": "markdown",
      "metadata": {
        "id": "oVj6N4-AbpRg"
      },
      "source": [
        "Now, if $P(x)$ had been true on that domain, how would we have known? Simple, the `for` loop just never would have quit and nothing would have printed.\n",
        "\n",
        "What about the $\\exists$ quantifier? We can do something similar to check if anything ever makes the predicate true, as in\n",
        "$$\n",
        "\\exists x,\\ x^2 - 4x + 4 = 0\n",
        "$$"
      ]
    },
    {
      "cell_type": "code",
      "execution_count": null,
      "metadata": {
        "id": "z5xpHnnMbXdH"
      },
      "outputs": [],
      "source": [
        "for x in range(-10000,10001,1) :  # check all the integers from -10000 to 10000\n",
        "  if P(x) :                       # if P(x) is true, then we can stop because we found what we're looking for\n",
        "    print(x)                      # then print the x that made it true\n",
        "    break                         # and break out of the for loop"
      ]
    },
    {
      "cell_type": "code",
      "execution_count": null,
      "metadata": {
        "id": "o32VgGPdcRx6"
      },
      "outputs": [],
      "source": [
        "P(-2)"
      ]
    },
    {
      "cell_type": "markdown",
      "metadata": {
        "id": "rXDsdxZachzs"
      },
      "source": [
        "# Assignment\n",
        "\n",
        "Write code to identify whether the following **quantified predicate** is true over the domain $D=\\{-1000,-999,\\dots,999,1000\\}$.\n",
        "\n",
        "$$\n",
        "\\exists x\\in D,\\ x^2 + 6x - 988027 = 0\n",
        "$$\n",
        "\n",
        "If `True`, your quiz answer should be the **largest integer in $D$ that makes it true**. If `False`, your quiz answer should be 1001."
      ]
    },
    {
      "cell_type": "code",
      "execution_count": 18,
      "metadata": {},
      "outputs": [
        {
          "name": "stdout",
          "output_type": "stream",
          "text": [
            "-997\n"
          ]
        }
      ],
      "source": [
        "def P(x):\n",
        "    return x**2 + 6 * x - 988027 == 0\n",
        "\n",
        "x = -1000\n",
        "\n",
        "for x in range(-1000, 1001, 1):\n",
        "    if P(x):\n",
        "        print(x)\n",
        "        break"
      ]
    }
  ],
  "metadata": {
    "colab": {
      "name": "In_Class_Lecture_3.ipynb",
      "provenance": []
    },
    "kernelspec": {
      "display_name": "Python 3.10.6 64-bit",
      "language": "python",
      "name": "python3"
    },
    "language_info": {
      "codemirror_mode": {
        "name": "ipython",
        "version": 3
      },
      "file_extension": ".py",
      "mimetype": "text/x-python",
      "name": "python",
      "nbconvert_exporter": "python",
      "pygments_lexer": "ipython3",
      "version": "3.10.6"
    },
    "vscode": {
      "interpreter": {
        "hash": "26de051ba29f2982a8de78e945f0abaf191376122a1563185a90213a26c5da77"
      }
    }
  },
  "nbformat": 4,
  "nbformat_minor": 0
}
