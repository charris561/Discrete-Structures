{
  "nbformat": 4,
  "nbformat_minor": 0,
  "metadata": {
    "colab": {
      "name": "In_Class_Lecture_3.ipynb",
      "provenance": []
    },
    "kernelspec": {
      "name": "python3",
      "display_name": "Python 3"
    },
    "language_info": {
      "name": "python"
    }
  },
  "cells": [
    {
      "cell_type": "markdown",
      "source": [
        "# Predicates"
      ],
      "metadata": {
        "id": "ulpzFGczRVtD"
      }
    },
    {
      "cell_type": "markdown",
      "source": [
        "In the video lectures, you learned about this thing called a \"predicate,\" a logical proposition that is ambiguous until you plug in a value. For example, we could let $P(x)$ be the predicate\n",
        "$$\n",
        "x^2 - 4x + 4 = 0\n",
        "$$"
      ],
      "metadata": {
        "id": "XFDe4Ei5Rq9r"
      }
    },
    {
      "cell_type": "markdown",
      "source": [
        "Predicates add a layer of complexity (but also flexibility) to logical propositions, because in their basic form they are *ambiguous*. Is the predicate P(x) above `True` or `False`? It depends on what $x$ you plug in!\n",
        "\n",
        "What happens if we simply write the above in code?\n",
        "\n",
        "Note: you can't just write the above directly, since in Python the `=` symbol is the *assignment* operator. Instead of `=`, you have to use `==` which means *equal to*."
      ],
      "metadata": {
        "id": "9OTQ6sxbSG6F"
      }
    },
    {
      "cell_type": "code",
      "execution_count": null,
      "metadata": {
        "id": "iQw3GgaVHdBV"
      },
      "outputs": [],
      "source": [
        "x*x - 4*x + 4 == 0"
      ]
    },
    {
      "cell_type": "markdown",
      "source": [
        "What happened? The same thing that would happen if I asked you \"Is $P(x)$ true?\"\n",
        "\n",
        "$P(x)$ doesn't have a truth value until you plug a number in.\n",
        "\n",
        "One way to \"plug a number in is to assign a value to `x` and just repeat the expression:"
      ],
      "metadata": {
        "id": "e9bQW6avRQ_q"
      }
    },
    {
      "cell_type": "code",
      "source": [
        "x = 1\n",
        "print(x*x - 4*x + 4 == 0)"
      ],
      "metadata": {
        "id": "g8nQdViFT_t4"
      },
      "execution_count": null,
      "outputs": []
    },
    {
      "cell_type": "markdown",
      "source": [
        "Now, what happened here? When we assigned the value `1` to `x`, the predicate expression stoppped being ambiguous.\n",
        "\n",
        "`x*x - 4*x + 4 == 0` became `1-4+4 == 0`, or `1 == 0`, which evaluates to `False`.\n",
        "\n",
        "You might not be used to thinking about logical expressions as *having a truth value* in a programming language, but that's how it works:"
      ],
      "metadata": {
        "id": "c9AXUxXrUEKa"
      }
    },
    {
      "cell_type": "code",
      "source": [
        "1>0 # is 1 greater than 0?"
      ],
      "metadata": {
        "id": "OWL7Ql1gUB9Y"
      },
      "execution_count": null,
      "outputs": []
    },
    {
      "cell_type": "markdown",
      "source": [
        "Is the same exact thing as"
      ],
      "metadata": {
        "id": "q62Hb5UTUtwq"
      }
    },
    {
      "cell_type": "code",
      "source": [
        "(1>0) == True # does (1>0) have the value True?"
      ],
      "metadata": {
        "id": "U2ii0VXQUsYJ"
      },
      "execution_count": null,
      "outputs": []
    },
    {
      "cell_type": "markdown",
      "source": [
        "Back to the predicate. Are there any values of `x` which make our predicate True?"
      ],
      "metadata": {
        "id": "XH7r0kP1U35a"
      }
    },
    {
      "cell_type": "code",
      "source": [
        "x = 2\n",
        "print(x*x - 4*x + 4 == 0)"
      ],
      "metadata": {
        "id": "l-FwEW_UUwG5"
      },
      "execution_count": null,
      "outputs": []
    },
    {
      "cell_type": "markdown",
      "source": [
        "Do the math by hand to make sure it makes sense: if $x=2$, then \n",
        "\n",
        "`x*x - 4*x + 4 == 0` becomes `4-8+4 == 0`, or `0 == 0`, which evaluates to `True`."
      ],
      "metadata": {
        "id": "hmePoDLZVFZk"
      }
    },
    {
      "cell_type": "markdown",
      "source": [
        "# Predicates natively in Python?"
      ],
      "metadata": {
        "id": "iKVBf19SWLrt"
      }
    },
    {
      "cell_type": "markdown",
      "source": [
        "But this is very cumbersome. If we want to reuse our predicate in a meaningful way, does Python have a construct which lets us define it directly as a predicate?\n",
        "\n",
        "Yes! It's called a function. \"Predicate\" is just the mathy name for a boolean-valued function! To define a function in Python, use the `def` keyword followed by the function name:"
      ],
      "metadata": {
        "id": "OxiQvSVuVV7k"
      }
    },
    {
      "cell_type": "code",
      "source": [
        "def P(x) :\n",
        "  return x*x - 4*x + 4 == 0"
      ],
      "metadata": {
        "id": "qQSs-M6-U_pc"
      },
      "execution_count": null,
      "outputs": []
    },
    {
      "cell_type": "markdown",
      "source": [
        "Note: indentation defines what is inside the function scope. The `x` referenced *inside the function* is different from the `x` which we've defined elsewhere in the notebook.\n",
        "\n",
        "Note: we did *not* declare the function type; we just created it directly so that it always returns a `bool`. This is a danger spot for Python! **You are responsible for making sure your functions return what you want them to return.** Python isn't going to check your work."
      ],
      "metadata": {
        "id": "8nnxBoPxW2eI"
      }
    },
    {
      "cell_type": "code",
      "source": [
        "P(0)"
      ],
      "metadata": {
        "id": "cdYOWeJjWfTt"
      },
      "execution_count": null,
      "outputs": []
    },
    {
      "cell_type": "code",
      "source": [
        "P(1)"
      ],
      "metadata": {
        "id": "m4m8AWnNWhY9"
      },
      "execution_count": null,
      "outputs": []
    },
    {
      "cell_type": "code",
      "source": [
        "P(2)"
      ],
      "metadata": {
        "id": "KYimFgsvWnHN"
      },
      "execution_count": null,
      "outputs": []
    },
    {
      "cell_type": "code",
      "source": [
        "P(-1)"
      ],
      "metadata": {
        "id": "E_WtVhDbWnnO"
      },
      "execution_count": null,
      "outputs": []
    },
    {
      "cell_type": "markdown",
      "source": [
        "Now, our `P(x)` function behaves exactly like a real predicate! It doesn't have a truth value until we plug a number in, and then the truth value is unambiguous.\n",
        "\n",
        "We can also negate it easily. How? Well, the cumbersome way would be to define a new predicate that contains the negated statement:"
      ],
      "metadata": {
        "id": "3x53oTXLWyYe"
      }
    },
    {
      "cell_type": "code",
      "source": [
        "def negatedP(x) :\n",
        "  return x*x - 4*x + 4 != 0"
      ],
      "metadata": {
        "id": "ry-yXLgOWwR-"
      },
      "execution_count": null,
      "outputs": []
    },
    {
      "cell_type": "code",
      "source": [
        "negatedP(0)"
      ],
      "metadata": {
        "id": "ORV31O72Xwkg"
      },
      "execution_count": null,
      "outputs": []
    },
    {
      "cell_type": "code",
      "source": [
        "negatedP(1)"
      ],
      "metadata": {
        "id": "rDTM75zAXxux"
      },
      "execution_count": null,
      "outputs": []
    },
    {
      "cell_type": "code",
      "source": [
        "negatedP(2)"
      ],
      "metadata": {
        "id": "JGmch5ojXypi"
      },
      "execution_count": null,
      "outputs": []
    },
    {
      "cell_type": "markdown",
      "source": [
        "Or, we could use the original predicate with the keyword `not`:"
      ],
      "metadata": {
        "id": "6RITeb-rX4B6"
      }
    },
    {
      "cell_type": "code",
      "source": [
        "not P(0)"
      ],
      "metadata": {
        "id": "PbacAZ9MXzcf"
      },
      "execution_count": null,
      "outputs": []
    },
    {
      "cell_type": "code",
      "source": [
        "not P(1)"
      ],
      "metadata": {
        "id": "bMooXr73X9bA"
      },
      "execution_count": null,
      "outputs": []
    },
    {
      "cell_type": "code",
      "source": [
        "not P(2)"
      ],
      "metadata": {
        "id": "6hiv2oo7X-sR"
      },
      "execution_count": null,
      "outputs": []
    },
    {
      "cell_type": "markdown",
      "source": [
        "# Quantified Predicates"
      ],
      "metadata": {
        "id": "IsYkNBR8Y-v9"
      }
    },
    {
      "cell_type": "markdown",
      "source": [
        "Since a predicate is neither true nor false all alone, we need a way to talk about truth in a more general sense. We do this with the quantifiers $\\forall$ and $\\exists$.\n",
        "\n",
        "If we say \n",
        "$$\n",
        "\\forall x,\\ x^2 - 4x + 4 = 0\n",
        "$$\n",
        "this statement is false. Why? Because it's saying \"no matter what $x$ you plug in, you'll get a true statement. How would we check this in code? \n",
        "\n",
        "Danger: you can't necessarily write code that is *guaranteed* to give you the right answer. Why? Because there may be infinitely-many things you can plug into the predicate! \"For all $x$\" is infinitely-many inputs!\n",
        "\n",
        "However, code can still be useful here, since you can use it to check a lot of values. Not *all*, but a lot.\n",
        "\n",
        "If we want to check if the above **quantified predicate** is true, what would we do? You could write a for loop!"
      ],
      "metadata": {
        "id": "tRdvRkKbZjdW"
      }
    },
    {
      "cell_type": "code",
      "source": [
        "for x in range(-10000,10001,1) :  # check all the integers from -10000 to 10000\n",
        "  if not P(x) :                   # if P(x) is false, then we can stop (because we found a counterexample)\n",
        "    print(x)                      # then print the x that made it false\n",
        "    break                         # and break out of the for loop"
      ],
      "metadata": {
        "id": "QGbN4eoGYj_S"
      },
      "execution_count": null,
      "outputs": []
    },
    {
      "cell_type": "markdown",
      "source": [
        "Now, if $P(x)$ had been true on that domain, how would we have known? Simple, the `for` loop just never would have quit and nothing would have printed.\n",
        "\n",
        "What about the $\\exists$ quantifier? We can do something similar to check if anything ever makes the predicate true, as in\n",
        "$$\n",
        "\\exists x,\\ x^2 - 4x + 4 = 0\n",
        "$$"
      ],
      "metadata": {
        "id": "oVj6N4-AbpRg"
      }
    },
    {
      "cell_type": "code",
      "source": [
        "for x in range(-10000,10001,1) :  # check all the integers from -10000 to 10000\n",
        "  if P(x) :                       # if P(x) is true, then we can stop because we found what we're looking for\n",
        "    print(x)                      # then print the x that made it true\n",
        "    break                         # and break out of the for loop"
      ],
      "metadata": {
        "id": "z5xpHnnMbXdH"
      },
      "execution_count": null,
      "outputs": []
    },
    {
      "cell_type": "code",
      "source": [
        "P(-2)"
      ],
      "metadata": {
        "id": "o32VgGPdcRx6"
      },
      "execution_count": null,
      "outputs": []
    },
    {
      "cell_type": "markdown",
      "source": [
        "# Assignment\n",
        "\n",
        "Write code to identify whether the following **quantified predicate** is true over the domain $D=\\{-1000,-999,\\dots,999,1000\\}$.\n",
        "\n",
        "$$\n",
        "\\exists x\\in D,\\ x^2 + 6x - 988027\n",
        "$$\n",
        "\n",
        "If `True`, your quiz answer should be the **largest integer in $D$ that makes it true**. If `False`, your quiz answer should be 1001."
      ],
      "metadata": {
        "id": "rXDsdxZachzs"
      }
    }
  ]
}