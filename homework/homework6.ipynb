{
 "cells": [
  {
   "cell_type": "code",
   "execution_count": 5,
   "metadata": {},
   "outputs": [
    {
     "name": "stdout",
     "output_type": "stream",
     "text": [
      "It checks out!\n"
     ]
    }
   ],
   "source": [
    "for m in range(-10000, 10000):\n",
    "    for k in range(-10000, 10000):\n",
    "        assert(4*(m**2 - k) != 2)\n",
    "\n",
    "print(\"It checks out!\")"
   ]
  }
 ],
 "metadata": {
  "kernelspec": {
   "display_name": "Python 3.10.5 64-bit",
   "language": "python",
   "name": "python3"
  },
  "language_info": {
   "codemirror_mode": {
    "name": "ipython",
    "version": 3
   },
   "file_extension": ".py",
   "mimetype": "text/x-python",
   "name": "python",
   "nbconvert_exporter": "python",
   "pygments_lexer": "ipython3",
   "version": "3.10.5"
  },
  "orig_nbformat": 4,
  "vscode": {
   "interpreter": {
    "hash": "5a61b42ffab7c28424a92532d863d0610f048a2a690d324e34b39f5128b0b152"
   }
  }
 },
 "nbformat": 4,
 "nbformat_minor": 2
}
