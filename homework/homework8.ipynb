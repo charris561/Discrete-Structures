{
 "cells": [
  {
   "cell_type": "markdown",
   "metadata": {},
   "source": [
    "<h1><u>Problem 1</u></h1>"
   ]
  },
  {
   "cell_type": "code",
   "execution_count": null,
   "metadata": {},
   "outputs": [],
   "source": [
    "U = {1, 2, 3, 4, 5, 6, 7, 8, 9, 10}\n",
    "A = {2, 4}\n",
    "B = {1, 2, 8}\n",
    "C = {1, 2, 5, 6, 10}\n",
    "\n",
    "print (f\"Intersection of sets A and C = {A.intersection(C)}\")\n",
    "print (f\"Union of sets A and B = {A.union(B)}\")\n",
    "print (f\"The compliment of C = {U - C}\")\n",
    "print (f\"B - C = {B - C}\")\n",
    "print (f\"The intersection of the compliment of B = {C.intersection(U - B)}\")"
   ]
  },
  {
   "cell_type": "markdown",
   "metadata": {},
   "source": [
    "<h1><u>Problem 2</u></h1>"
   ]
  },
  {
   "cell_type": "code",
   "execution_count": 20,
   "metadata": {},
   "outputs": [
    {
     "name": "stdout",
     "output_type": "stream",
     "text": [
      "A: {0, 32, 4, 36, 8, 12, 16, 20, 24, 28} \n",
      "\n",
      "B: {0, 16, 4, 36} \n",
      "\n",
      "C: {0, 4, 36, 8, 12, 16} \n",
      "\n",
      "D: {0, 32, 4, 36, 8, 12, 16, 20, 24, 28} \n",
      "\n"
     ]
    }
   ],
   "source": [
    "start = 0; end = 10\n",
    "A = {4*x for x in range (start, end)}\n",
    "B = {2*y for y in range (start, end)}\n",
    "C = {z**2 for z in range(start, end)}\n",
    "\n",
    "print(f\"A: {A.union(B.intersection(C))} \\n\") #a\n",
    "print(f\"B: {(A.union(B)).intersection(C)} \\n\")#b\n",
    "print(f\"C: {A.intersection(B.union(C))} \\n\") #c\n",
    "print(f\"D: {A.intersection(A.union(C))} \\n\")#d\n"
   ]
  }
 ],
 "metadata": {
  "kernelspec": {
   "display_name": "Python 3.10.5 64-bit",
   "language": "python",
   "name": "python3"
  },
  "language_info": {
   "codemirror_mode": {
    "name": "ipython",
    "version": 3
   },
   "file_extension": ".py",
   "mimetype": "text/x-python",
   "name": "python",
   "nbconvert_exporter": "python",
   "pygments_lexer": "ipython3",
   "version": "3.10.5"
  },
  "orig_nbformat": 4,
  "vscode": {
   "interpreter": {
    "hash": "5a61b42ffab7c28424a92532d863d0610f048a2a690d324e34b39f5128b0b152"
   }
  }
 },
 "nbformat": 4,
 "nbformat_minor": 2
}
