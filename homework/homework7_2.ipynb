{
 "cells": [
  {
   "cell_type": "code",
   "execution_count": 2,
   "metadata": {},
   "outputs": [],
   "source": [
    "base2 = '0l'\n",
    "base8 = '01234567'\n",
    "base10 = '0123456789'\n",
    "base16 = '0123456789ABCDEF'"
   ]
  },
  {
   "cell_type": "code",
   "execution_count": 3,
   "metadata": {},
   "outputs": [],
   "source": [
    "def reverseString(string):\n",
    "    #from geeks for geeks: https://www.geeksforgeeks.org/reverse-string-python-5-different-ways/\n",
    "    string = list(string)\n",
    "    string.reverse()\n",
    "    return \"\".join(string)\n",
    "\n",
    "def decToBinaryConversion(n):\n",
    "    # decimal to binary conversion\n",
    "    if (n > 0):\n",
    "        R = n % 2  \n",
    "        binaryNumber = str(int(R))\n",
    "        n = (n - R) / 2\n",
    "\n",
    "        while (n != 0):\n",
    "            R = n % 2\n",
    "            binaryNumber += str(int(R))\n",
    "            n = (n - R) / 2\n",
    "\n",
    "        binaryNumber = reverseString(binaryNumber)\n",
    "    \n",
    "    else: \n",
    "        raise Exception(\"Input must be larger than 0\")\n",
    "\n",
    "    return binaryNumber"
   ]
  },
  {
   "cell_type": "markdown",
   "metadata": {},
   "source": [
    "Formula for conversion between base systems is as follows: \n",
    "\n",
    "$X=h_n*b^n+h_{n-1}*b^{n-1}+...+h_2*b^2+h_1*b^1+h_0*b^0$\n",
    "\n",
    "Where $h_n=$ Index; $b=$ base system\n",
    "\n",
    "Hexadecimal Example: \n",
    "\n",
    "$X=h_n*16^n+h_{n-1}*16^{n-1}+...+h_2*16^2+h_1*16^1+h_0*16^0$"
   ]
  },
  {
   "cell_type": "code",
   "execution_count": null,
   "metadata": {},
   "outputs": [],
   "source": [
    "#convert from octal to hex\n",
    "def octalToHexConversion(n):\n",
    "    #convert octal number to binary\n",
    "    return 0"
   ]
  }
 ],
 "metadata": {
  "kernelspec": {
   "display_name": "Python 3.10.7 64-bit",
   "language": "python",
   "name": "python3"
  },
  "language_info": {
   "codemirror_mode": {
    "name": "ipython",
    "version": 3
   },
   "file_extension": ".py",
   "mimetype": "text/x-python",
   "name": "python",
   "nbconvert_exporter": "python",
   "pygments_lexer": "ipython3",
   "version": "3.10.7"
  },
  "orig_nbformat": 4,
  "vscode": {
   "interpreter": {
    "hash": "26de051ba29f2982a8de78e945f0abaf191376122a1563185a90213a26c5da77"
   }
  }
 },
 "nbformat": 4,
 "nbformat_minor": 2
}
